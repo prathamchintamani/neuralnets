{
  "nbformat": 4,
  "nbformat_minor": 0,
  "metadata": {
    "colab": {
      "provenance": [],
      "gpuType": "T4",
      "authorship_tag": "ABX9TyOG3F5qXgcMRQq1kA6+G4wS",
      "include_colab_link": true
    },
    "kernelspec": {
      "name": "python3",
      "display_name": "Python 3"
    },
    "language_info": {
      "name": "python"
    },
    "accelerator": "GPU"
  },
  "cells": [
    {
      "cell_type": "markdown",
      "metadata": {
        "id": "view-in-github",
        "colab_type": "text"
      },
      "source": [
        "<a href=\"https://colab.research.google.com/github/prathamchintamani/neuralnets/blob/main/bank_note_authentication_nn.ipynb\" target=\"_parent\"><img src=\"https://colab.research.google.com/assets/colab-badge.svg\" alt=\"Open In Colab\"/></a>"
      ]
    },
    {
      "cell_type": "markdown",
      "source": [
        "https://archive.ics.uci.edu/dataset/267/banknote+authentication\n",
        "dataset"
      ],
      "metadata": {
        "id": "32IA83CsCcHB"
      }
    },
    {
      "cell_type": "code",
      "execution_count": 30,
      "metadata": {
        "id": "bE3N703p_nCb"
      },
      "outputs": [],
      "source": [
        "#libraries\n",
        "import pandas as pd\n",
        "import numpy as np\n",
        "from sklearn.model_selection import train_test_split"
      ]
    },
    {
      "cell_type": "code",
      "source": [
        "import torch\n",
        "from torch import nn"
      ],
      "metadata": {
        "id": "Jw7_G9aE6w2z"
      },
      "execution_count": 31,
      "outputs": []
    },
    {
      "cell_type": "code",
      "source": [
        "if torch.cuda.is_available():\n",
        "  device = 'cuda'\n",
        "else:\n",
        "  device = 'cpu'"
      ],
      "metadata": {
        "id": "J4XXZG9-62a5"
      },
      "execution_count": 32,
      "outputs": []
    },
    {
      "cell_type": "markdown",
      "source": [],
      "metadata": {
        "id": "EY57SU6dCgai"
      }
    },
    {
      "cell_type": "code",
      "source": [
        "#data loading\n",
        "df = pd.read_csv(\"/content/data_banknote_authentication.txt\")\n",
        "df.columns = [\"variance\",\"skewness\",\"curtosis\",\"entropy\",\"target\"]\n",
        "df = df.sample(frac = 1)\n",
        "df = df.reset_index(drop = True)\n"
      ],
      "metadata": {
        "id": "zBAWfOuA_xfG"
      },
      "execution_count": 33,
      "outputs": []
    },
    {
      "cell_type": "code",
      "source": [
        "#preprocessing\n",
        "y = df.target\n",
        "X = df.drop([\"target\"],axis = 1)\n",
        "X_train ,X_test,y_train,y_test = train_test_split(X,y,train_size = 0.70,random_state = 0)"
      ],
      "metadata": {
        "id": "S9grXOvhH9gj"
      },
      "execution_count": 34,
      "outputs": []
    },
    {
      "cell_type": "code",
      "source": [
        "#pddf to numpy\n",
        "X_train = X_train.to_numpy()\n",
        "X_test = X_test.to_numpy()\n",
        "y_train = y_train.to_numpy()\n",
        "y_test = y_test.to_numpy()"
      ],
      "metadata": {
        "id": "orRsMfXAKVxu"
      },
      "execution_count": 35,
      "outputs": []
    },
    {
      "cell_type": "code",
      "source": [
        "#assigning number of rows to variables\n",
        "n = np.shape(X_train)[0]\n",
        "m = np.shape(X_test)[0]"
      ],
      "metadata": {
        "id": "Yr7m3ZAcK7s0"
      },
      "execution_count": 36,
      "outputs": []
    },
    {
      "cell_type": "code",
      "source": [
        "def accuracy_fn(y_true, y_pred):\n",
        "    correct = torch.eq(y_true, y_pred).sum().item() # torch.eq() calculates where two tensors are equal\n",
        "    acc = (correct / len(y_pred)) * 100\n",
        "    return acc"
      ],
      "metadata": {
        "id": "Vrv9yrur-7WJ"
      },
      "execution_count": 37,
      "outputs": []
    },
    {
      "cell_type": "code",
      "source": [
        "X_train = torch.from_numpy(X_train).float().to(device)\n",
        "X_test = torch.from_numpy(X_test).float().to(device)\n",
        "y_train = torch.from_numpy(y_train).float().to(device)\n",
        "y_test = torch.from_numpy(y_test).float().to(device)"
      ],
      "metadata": {
        "id": "VRjzLQDr7QGX"
      },
      "execution_count": 38,
      "outputs": []
    },
    {
      "cell_type": "code",
      "source": [
        "class neural(nn.Module):\n",
        "  def __init__(self, in_size, hidden_size = 8):\n",
        "    super().__init__()\n",
        "    self.output = nn.Sequential(\n",
        "        nn.Linear(in_features=in_size,out_features=hidden_size),\n",
        "        nn.ReLU(),\n",
        "        nn.Linear(in_features=hidden_size,out_features=1),\n",
        "        nn.Sigmoid()\n",
        "    )\n",
        "  def forward(self, X):\n",
        "    return self.output(X)\n"
      ],
      "metadata": {
        "id": "vFs5LnG87qcm"
      },
      "execution_count": 39,
      "outputs": []
    },
    {
      "cell_type": "code",
      "source": [
        "model = neural(in_size = 4, hidden_size = 10).to(device)"
      ],
      "metadata": {
        "id": "EJFkDjT1_WKJ"
      },
      "execution_count": 40,
      "outputs": []
    },
    {
      "cell_type": "code",
      "source": [
        "print(model)"
      ],
      "metadata": {
        "colab": {
          "base_uri": "https://localhost:8080/"
        },
        "id": "N1tvyGPz9pY7",
        "outputId": "484aa034-d4ea-4d47-accd-0ff1b9d74f38"
      },
      "execution_count": 41,
      "outputs": [
        {
          "output_type": "stream",
          "name": "stdout",
          "text": [
            "neural(\n",
            "  (output): Sequential(\n",
            "    (0): Linear(in_features=4, out_features=10, bias=True)\n",
            "    (1): ReLU()\n",
            "    (2): Linear(in_features=10, out_features=1, bias=True)\n",
            "    (3): Sigmoid()\n",
            "  )\n",
            ")\n"
          ]
        }
      ]
    },
    {
      "cell_type": "code",
      "source": [
        "loss_fn = nn.BCEWithLogitsLoss()\n",
        "optimizer = torch.optim.SGD(model.parameters(), lr=0.1)"
      ],
      "metadata": {
        "id": "ZgKVJV5O-WSa"
      },
      "execution_count": 42,
      "outputs": []
    },
    {
      "cell_type": "code",
      "source": [
        "torch.manual_seed(42)\n",
        "epochs = 1000"
      ],
      "metadata": {
        "id": "XNEKVa14-f9A"
      },
      "execution_count": 43,
      "outputs": []
    },
    {
      "cell_type": "code",
      "source": [
        "for epoch in range(epochs):\n",
        "    # 1. Forward pass\n",
        "    y_logits = model(X_train).squeeze()\n",
        "    y_pred = torch.round(y_logits) # logits -> prediction probabilities -> prediction labels\n",
        "\n",
        "    # 2. Calculate loss and accuracy\n",
        "    loss = loss_fn(y_logits, y_train) # BCEWithLogitsLoss calculates loss using logits\n",
        "    acc = accuracy_fn(y_true=y_train,\n",
        "                      y_pred=y_pred)\n",
        "\n",
        "    # 3. Optimizer zero grad\n",
        "    optimizer.zero_grad()\n",
        "\n",
        "    # 4. Loss backward\n",
        "    loss.backward()\n",
        "\n",
        "    # 5. Optimizer step\n",
        "    optimizer.step()\n",
        "\n",
        "    ### Testing\n",
        "    model.eval()\n",
        "    with torch.inference_mode():\n",
        "      # 1. Forward pass\n",
        "      test_logits = model(X_test).squeeze()\n",
        "      test_pred = torch.round(test_logits) # logits -> prediction probabilities -> prediction labels\n",
        "      # 2. Calcuate loss and accuracy\n",
        "      test_loss = loss_fn(test_logits, y_test)\n",
        "      test_acc = accuracy_fn(y_true=y_test,\n",
        "                             y_pred=test_pred)\n",
        "\n",
        "    # Print out what's happening\n",
        "    if epoch % 100 == 0:\n",
        "        print(f\"Epoch: {epoch} | Loss: {loss:.5f}, Accuracy: {acc:.2f}% | Test Loss: {test_loss:.5f}, Test Accuracy: {test_acc:.2f}%\")"
      ],
      "metadata": {
        "colab": {
          "base_uri": "https://localhost:8080/"
        },
        "id": "0Tz9b0g7-k5b",
        "outputId": "ee671d3b-05ee-40be-9666-4f80fdf9b0cf"
      },
      "execution_count": 44,
      "outputs": [
        {
          "output_type": "stream",
          "name": "stdout",
          "text": [
            "Epoch: 0 | Loss: 0.71461, Accuracy: 64.55% | Test Loss: 0.71305, Test Accuracy: 66.99%\n",
            "Epoch: 100 | Loss: 0.57866, Accuracy: 93.64% | Test Loss: 0.58575, Test Accuracy: 91.99%\n",
            "Epoch: 200 | Loss: 0.55429, Accuracy: 95.41% | Test Loss: 0.56346, Test Accuracy: 95.39%\n",
            "Epoch: 300 | Loss: 0.54430, Accuracy: 97.81% | Test Loss: 0.55449, Test Accuracy: 97.57%\n",
            "Epoch: 400 | Loss: 0.53878, Accuracy: 98.64% | Test Loss: 0.54907, Test Accuracy: 98.30%\n",
            "Epoch: 500 | Loss: 0.53521, Accuracy: 98.85% | Test Loss: 0.54545, Test Accuracy: 98.54%\n",
            "Epoch: 600 | Loss: 0.53277, Accuracy: 99.17% | Test Loss: 0.54297, Test Accuracy: 98.54%\n",
            "Epoch: 700 | Loss: 0.53101, Accuracy: 99.17% | Test Loss: 0.54120, Test Accuracy: 98.54%\n",
            "Epoch: 800 | Loss: 0.52970, Accuracy: 99.79% | Test Loss: 0.53986, Test Accuracy: 99.76%\n",
            "Epoch: 900 | Loss: 0.52867, Accuracy: 99.90% | Test Loss: 0.53884, Test Accuracy: 100.00%\n"
          ]
        }
      ]
    }
  ]
}