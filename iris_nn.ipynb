{
  "nbformat": 4,
  "nbformat_minor": 0,
  "metadata": {
    "colab": {
      "provenance": [],
      "gpuType": "T4",
      "authorship_tag": "ABX9TyMrAl0tL8I+xfefbvB2k0sH",
      "include_colab_link": true
    },
    "kernelspec": {
      "name": "python3",
      "display_name": "Python 3"
    },
    "language_info": {
      "name": "python"
    },
    "accelerator": "GPU"
  },
  "cells": [
    {
      "cell_type": "markdown",
      "metadata": {
        "id": "view-in-github",
        "colab_type": "text"
      },
      "source": [
        "<a href=\"https://colab.research.google.com/github/prathamchintamani/neuralnets/blob/main/iris_nn.ipynb\" target=\"_parent\"><img src=\"https://colab.research.google.com/assets/colab-badge.svg\" alt=\"Open In Colab\"/></a>"
      ]
    },
    {
      "cell_type": "code",
      "execution_count": 77,
      "metadata": {
        "id": "JGDl8wzJBg7u"
      },
      "outputs": [],
      "source": [
        "import pandas as pd\n",
        "import torch\n",
        "from torch import nn\n",
        "\n",
        "import numpy as np"
      ]
    },
    {
      "cell_type": "code",
      "source": [
        "if torch.cuda.is_available():\n",
        "  device = 'cuda'\n",
        "else:\n",
        "  device = 'cpu'"
      ],
      "metadata": {
        "id": "xvFTf4bCSGdi"
      },
      "execution_count": 78,
      "outputs": []
    },
    {
      "cell_type": "code",
      "source": [
        "from sklearn.model_selection import train_test_split"
      ],
      "metadata": {
        "id": "IktYHA64N5b_"
      },
      "execution_count": 79,
      "outputs": []
    },
    {
      "cell_type": "code",
      "source": [
        "from sklearn import datasets\n",
        "import pandas as pd\n",
        "\n",
        "# Load the Iris dataset\n",
        "iris = datasets.load_iris()\n",
        "\n",
        "# Create a DataFrame from the dataset\n",
        "iris_df = pd.DataFrame(iris.data)\n",
        "iris_df['class'] = iris.target\n",
        "iris_df.columns = ['sepal_len', 'sepal_wid', 'petal_len', 'petal_wid', 'class']"
      ],
      "metadata": {
        "id": "UDptgWT4Mvln"
      },
      "execution_count": 80,
      "outputs": []
    },
    {
      "cell_type": "code",
      "source": [
        "df = iris_df.sample(frac = 1)\n",
        "df_train,df_test = train_test_split(df,test_size = 0.1, random_state = 1)\n",
        "y_train = df_train['class']\n",
        "y_test = df_test['class']\n",
        "X_train = df_train.drop('class', axis = 1)\n",
        "X_test = df_test.drop('class', axis = 1)"
      ],
      "metadata": {
        "id": "xha3RmX1MxWJ"
      },
      "execution_count": 81,
      "outputs": []
    },
    {
      "cell_type": "code",
      "source": [
        "y_train_t,y_test_t,X_train_t,X_test_t = torch.from_numpy(y_train.to_numpy()),torch.from_numpy(y_test.to_numpy()),torch.from_numpy(X_train.to_numpy()),torch.from_numpy(X_test.to_numpy())"
      ],
      "metadata": {
        "id": "Y1IoW9SiNbXH"
      },
      "execution_count": 82,
      "outputs": []
    },
    {
      "cell_type": "code",
      "source": [
        "y_train_t = y_train_t.type(torch.long).to(device)\n",
        "y_test_t = y_test_t.type(torch.long).to(device)\n",
        "X_train_t = X_train_t.type(torch.float32).to(device)\n",
        "X_test_t = X_test_t.type(torch.float32).to(device)"
      ],
      "metadata": {
        "id": "pmjoFHbgP8s0"
      },
      "execution_count": 83,
      "outputs": []
    },
    {
      "cell_type": "code",
      "source": [
        "class nn_model(nn.Module):\n",
        "  def __init__(self):\n",
        "    super().__init__()\n",
        "    self.stack = nn.Sequential(\n",
        "        nn.Linear(4,4),\n",
        "        nn.ReLU(),\n",
        "        nn.Linear(4,3)\n",
        "    )\n",
        "\n",
        "  def forward(self, X ):\n",
        "    return self.stack(X)"
      ],
      "metadata": {
        "id": "6Bg5jXStNjsZ"
      },
      "execution_count": 84,
      "outputs": []
    },
    {
      "cell_type": "code",
      "source": [
        "def accuracy_fn(y_true, y_pred):\n",
        "    correct = torch.eq(y_true, y_pred).sum().item() # torch.eq() calculates where two tensors are equal\n",
        "    acc = (correct / len(y_pred)) * 100\n",
        "    return acc"
      ],
      "metadata": {
        "id": "4mP6048VRVRE"
      },
      "execution_count": 85,
      "outputs": []
    },
    {
      "cell_type": "code",
      "source": [
        "model_0 = nn_model()"
      ],
      "metadata": {
        "id": "Ced6eh6OPw5N"
      },
      "execution_count": 86,
      "outputs": []
    },
    {
      "cell_type": "code",
      "source": [
        "model_0.to(device)"
      ],
      "metadata": {
        "colab": {
          "base_uri": "https://localhost:8080/"
        },
        "id": "VgpfatkUQQ6Y",
        "outputId": "d7f0a24e-98cd-47ba-914e-ff5c9ecadaff"
      },
      "execution_count": 87,
      "outputs": [
        {
          "output_type": "execute_result",
          "data": {
            "text/plain": [
              "nn_model(\n",
              "  (stack): Sequential(\n",
              "    (0): Linear(in_features=4, out_features=4, bias=True)\n",
              "    (1): ReLU()\n",
              "    (2): Linear(in_features=4, out_features=3, bias=True)\n",
              "  )\n",
              ")"
            ]
          },
          "metadata": {},
          "execution_count": 87
        }
      ]
    },
    {
      "cell_type": "code",
      "source": [
        "loss_fn = nn.CrossEntropyLoss()\n",
        "optimizer = torch.optim.Adam(model_0.parameters(), lr=0.01)"
      ],
      "metadata": {
        "id": "2yhMQdfjQTTC"
      },
      "execution_count": 88,
      "outputs": []
    },
    {
      "cell_type": "code",
      "source": [
        "torch.manual_seed(42)\n",
        "epochs = 100\n"
      ],
      "metadata": {
        "id": "J5E-B0PtQpQj"
      },
      "execution_count": 89,
      "outputs": []
    },
    {
      "cell_type": "code",
      "source": [
        "for epoch in range(epochs):\n",
        "    ### Training\n",
        "    model_0.train()\n",
        "\n",
        "    # 1. Forward pass\n",
        "    y_logits = model_0(X_train_t) # model outputs raw logits\n",
        "    y_pred = torch.softmax(y_logits, dim=1).argmax(dim=1) # go from logits -> prediction probabilities -> prediction labels\n",
        "    # print(y_logits)\n",
        "    # 2. Calculate loss and accuracy\n",
        "    loss = loss_fn(y_logits, y_train_t)\n",
        "    acc = accuracy_fn(y_true=y_train_t,\n",
        "                      y_pred=y_pred)\n",
        "\n",
        "    # 3. Optimizer zero grad\n",
        "    optimizer.zero_grad()\n",
        "\n",
        "    # 4. Loss backwards\n",
        "    loss.backward()\n",
        "\n",
        "    # 5. Optimizer step\n",
        "    optimizer.step()\n",
        "\n",
        "    ### Testing\n",
        "    model_0.eval()\n",
        "    with torch.inference_mode():\n",
        "      # 1. Forward pass\n",
        "      test_logits = model_0(X_test_t)\n",
        "      test_pred = torch.softmax(test_logits, dim=1).argmax(dim=1)\n",
        "      # 2. Calculate test loss and accuracy\n",
        "      test_loss = loss_fn(test_logits, y_test_t)\n",
        "      test_acc = accuracy_fn(y_true=y_test_t,\n",
        "                             y_pred=test_pred)\n",
        "\n",
        "    # Print out what's happening\n",
        "    if epoch % 10 == 0:\n",
        "        print(f\"Epoch: {epoch} | Loss: {loss:.5f}, Acc: {acc:.2f}% | Test Loss: {test_loss:.5f}, Test Acc: {test_acc:.2f}%\")"
      ],
      "metadata": {
        "colab": {
          "base_uri": "https://localhost:8080/"
        },
        "id": "PSHnFlBfQ7vM",
        "outputId": "cd4ffac1-6e53-4df1-d15e-a800e3b6a5bb"
      },
      "execution_count": 90,
      "outputs": [
        {
          "output_type": "stream",
          "name": "stdout",
          "text": [
            "Epoch: 0 | Loss: 1.62290, Acc: 65.19% | Test Loss: 1.09657, Test Acc: 80.00%\n",
            "Epoch: 10 | Loss: 0.93167, Acc: 65.19% | Test Loss: 0.81527, Test Acc: 80.00%\n",
            "Epoch: 20 | Loss: 0.77631, Acc: 93.33% | Test Loss: 0.75246, Test Acc: 100.00%\n",
            "Epoch: 30 | Loss: 0.66363, Acc: 88.15% | Test Loss: 0.62125, Test Acc: 100.00%\n",
            "Epoch: 40 | Loss: 0.56217, Acc: 91.11% | Test Loss: 0.50608, Test Acc: 100.00%\n",
            "Epoch: 50 | Loss: 0.48508, Acc: 93.33% | Test Loss: 0.42707, Test Acc: 100.00%\n",
            "Epoch: 60 | Loss: 0.42618, Acc: 96.30% | Test Loss: 0.37933, Test Acc: 100.00%\n",
            "Epoch: 70 | Loss: 0.37866, Acc: 97.04% | Test Loss: 0.33866, Test Acc: 100.00%\n",
            "Epoch: 80 | Loss: 0.33890, Acc: 97.04% | Test Loss: 0.30711, Test Acc: 100.00%\n",
            "Epoch: 90 | Loss: 0.30432, Acc: 97.78% | Test Loss: 0.27939, Test Acc: 100.00%\n"
          ]
        }
      ]
    }
  ]
}