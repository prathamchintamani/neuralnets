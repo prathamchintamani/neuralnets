{
  "nbformat": 4,
  "nbformat_minor": 0,
  "metadata": {
    "colab": {
      "provenance": [],
      "authorship_tag": "ABX9TyOhjCFnkx8iIb8/hqx2//S4",
      "include_colab_link": true
    },
    "kernelspec": {
      "name": "python3",
      "display_name": "Python 3"
    },
    "language_info": {
      "name": "python"
    }
  },
  "cells": [
    {
      "cell_type": "markdown",
      "metadata": {
        "id": "view-in-github",
        "colab_type": "text"
      },
      "source": [
        "<a href=\"https://colab.research.google.com/github/prathamchintamani/neuralnets/blob/main/convolver.ipynb\" target=\"_parent\"><img src=\"https://colab.research.google.com/assets/colab-badge.svg\" alt=\"Open In Colab\"/></a>"
      ]
    },
    {
      "cell_type": "code",
      "execution_count": 55,
      "metadata": {
        "id": "tfQIHCNGt4Pe"
      },
      "outputs": [],
      "source": [
        "#convolving a 10x10 tesnsor with a 3x3 tensor"
      ]
    },
    {
      "cell_type": "code",
      "source": [
        "import torch"
      ],
      "metadata": {
        "id": "u_q-viM5uAgc"
      },
      "execution_count": 56,
      "outputs": []
    },
    {
      "cell_type": "code",
      "source": [
        "mmtensor = torch.rand(size = (10,10))"
      ],
      "metadata": {
        "id": "i1FnyiB9uCN5"
      },
      "execution_count": 57,
      "outputs": []
    },
    {
      "cell_type": "code",
      "source": [
        "otensor = torch.rand(size = (10,10))"
      ],
      "metadata": {
        "id": "7fyXqfDLvxnw"
      },
      "execution_count": 58,
      "outputs": []
    },
    {
      "cell_type": "code",
      "source": [
        "ctensor = torch.rand(size = (3,3))"
      ],
      "metadata": {
        "id": "tBg1GYO4uaaE"
      },
      "execution_count": 59,
      "outputs": []
    },
    {
      "cell_type": "code",
      "source": [
        "mtensor = torch.nn.functional.pad(mmtensor,(1,1,1,1),mode = 'constant',value = 0)"
      ],
      "metadata": {
        "id": "oT2i9TYmuinw"
      },
      "execution_count": 60,
      "outputs": []
    },
    {
      "cell_type": "code",
      "source": [
        "mtensor.shape"
      ],
      "metadata": {
        "colab": {
          "base_uri": "https://localhost:8080/"
        },
        "id": "praf-jnuvKrh",
        "outputId": "76f59aee-07ce-4397-eaca-4cd9d2eec1d7"
      },
      "execution_count": 61,
      "outputs": [
        {
          "output_type": "execute_result",
          "data": {
            "text/plain": [
              "torch.Size([12, 12])"
            ]
          },
          "metadata": {},
          "execution_count": 61
        }
      ]
    },
    {
      "cell_type": "code",
      "source": [
        "for i in range(1,10):\n",
        "  for j in range(1,10):\n",
        "    otensor[i-1][j-1] = torch.sum(torch.mul(mtensor[i-1:i+2,j-1:j+2],ctensor))\n",
        "\n",
        "print (otensor)"
      ],
      "metadata": {
        "colab": {
          "base_uri": "https://localhost:8080/"
        },
        "id": "XdG1Fh32vhno",
        "outputId": "c725708b-5342-4734-c332-903044ab8c4e"
      },
      "execution_count": 62,
      "outputs": [
        {
          "output_type": "stream",
          "name": "stdout",
          "text": [
            "tensor([[0.3467, 0.9142, 1.1139, 1.2385, 1.3056, 0.9222, 1.2539, 0.4731, 1.3422,\n",
            "         0.6802],\n",
            "        [0.5551, 1.3346, 1.4667, 1.9954, 1.8301, 1.9614, 2.1039, 1.2481, 2.0587,\n",
            "         0.0278],\n",
            "        [0.6414, 1.6007, 1.8855, 1.1021, 1.6407, 1.6299, 1.9897, 1.3919, 1.6842,\n",
            "         0.9790],\n",
            "        [1.1848, 1.8502, 1.3454, 2.3729, 1.2138, 2.3591, 1.7352, 2.4065, 2.1967,\n",
            "         0.5968],\n",
            "        [1.7885, 2.5819, 1.4249, 1.8817, 2.8587, 1.8790, 2.1653, 2.1617, 2.4598,\n",
            "         0.7369],\n",
            "        [1.5969, 2.0609, 1.8769, 2.1478, 2.7016, 2.8601, 2.4807, 2.9747, 2.3050,\n",
            "         0.0420],\n",
            "        [1.3429, 2.1761, 2.8860, 2.7917, 2.9923, 3.0133, 2.8212, 2.9621, 2.2149,\n",
            "         0.2716],\n",
            "        [1.1913, 2.7402, 2.0393, 3.5044, 3.2308, 2.5555, 2.6522, 2.6314, 2.1465,\n",
            "         0.2219],\n",
            "        [1.4804, 2.8722, 2.5513, 3.2327, 3.4888, 2.2773, 2.0294, 2.1797, 2.5501,\n",
            "         0.8285],\n",
            "        [0.9362, 0.6082, 0.5144, 0.3120, 0.4217, 0.9881, 0.2796, 0.6146, 0.7566,\n",
            "         0.4733]])\n"
          ]
        }
      ]
    }
  ]
}