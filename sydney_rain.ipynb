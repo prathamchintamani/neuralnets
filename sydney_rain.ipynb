{
  "nbformat": 4,
  "nbformat_minor": 0,
  "metadata": {
    "colab": {
      "provenance": [],
      "gpuType": "T4",
      "authorship_tag": "ABX9TyM2BnjFBiMVo+lRkpIpzNMI",
      "include_colab_link": true
    },
    "kernelspec": {
      "name": "python3",
      "display_name": "Python 3"
    },
    "language_info": {
      "name": "python"
    },
    "accelerator": "GPU"
  },
  "cells": [
    {
      "cell_type": "markdown",
      "metadata": {
        "id": "view-in-github",
        "colab_type": "text"
      },
      "source": [
        "<a href=\"https://colab.research.google.com/github/prathamchintamani/neuralnets/blob/main/sydney_rain.ipynb\" target=\"_parent\"><img src=\"https://colab.research.google.com/assets/colab-badge.svg\" alt=\"Open In Colab\"/></a>"
      ]
    },
    {
      "cell_type": "code",
      "source": [
        "import pandas as pd\n",
        "import numpy as np\n",
        "import torch\n",
        "import torch.nn as nn\n",
        "from sklearn.model_selection import train_test_split"
      ],
      "metadata": {
        "id": "cEhFDjZ_APWk"
      },
      "execution_count": 81,
      "outputs": []
    },
    {
      "cell_type": "code",
      "source": [
        "device = 'cuda' if torch.cuda.is_available() else 'cpu'"
      ],
      "metadata": {
        "id": "1aEHj8Mrf-eQ"
      },
      "execution_count": 82,
      "outputs": []
    },
    {
      "cell_type": "code",
      "execution_count": 83,
      "metadata": {
        "colab": {
          "base_uri": "https://localhost:8080/"
        },
        "id": "9n2bEjOdANtv",
        "outputId": "78d9c8fd-94b0-4e48-d886-5793098b5e05"
      },
      "outputs": [
        {
          "output_type": "stream",
          "name": "stdout",
          "text": [
            "--2024-07-09 08:00:52--  https://cf-courses-data.s3.us.cloud-object-storage.appdomain.cloud/IBMDeveloperSkillsNetwork-ML0101EN-SkillUp/labs/ML-FinalAssignment/Weather_Data.csv\n",
            "Resolving cf-courses-data.s3.us.cloud-object-storage.appdomain.cloud (cf-courses-data.s3.us.cloud-object-storage.appdomain.cloud)... 169.63.118.104\n",
            "Connecting to cf-courses-data.s3.us.cloud-object-storage.appdomain.cloud (cf-courses-data.s3.us.cloud-object-storage.appdomain.cloud)|169.63.118.104|:443... connected.\n",
            "HTTP request sent, awaiting response... 200 OK\n",
            "Length: 284201 (278K) [text/csv]\n",
            "Saving to: ‘Weather_Data.csv’\n",
            "\n",
            "Weather_Data.csv    100%[===================>] 277.54K   353KB/s    in 0.8s    \n",
            "\n",
            "2024-07-09 08:00:54 (353 KB/s) - ‘Weather_Data.csv’ saved [284201/284201]\n",
            "\n"
          ]
        }
      ],
      "source": [
        "!wget -O Weather_Data.csv https://cf-courses-data.s3.us.cloud-object-storage.appdomain.cloud/IBMDeveloperSkillsNetwork-ML0101EN-SkillUp/labs/ML-FinalAssignment/Weather_Data.csv"
      ]
    },
    {
      "cell_type": "code",
      "source": [
        "df = pd.read_csv(\"Weather_Data.csv\")\n",
        "df.head()"
      ],
      "metadata": {
        "colab": {
          "base_uri": "https://localhost:8080/",
          "height": 255
        },
        "id": "BsxTPeP5Acmq",
        "outputId": "254566d3-977d-4053-d932-1e727e76e023"
      },
      "execution_count": 84,
      "outputs": [
        {
          "output_type": "execute_result",
          "data": {
            "text/plain": [
              "       Date  MinTemp  MaxTemp  Rainfall  Evaporation  Sunshine WindGustDir  \\\n",
              "0  2/1/2008     19.5     22.4      15.6          6.2       0.0           W   \n",
              "1  2/2/2008     19.5     25.6       6.0          3.4       2.7           W   \n",
              "2  2/3/2008     21.6     24.5       6.6          2.4       0.1           W   \n",
              "3  2/4/2008     20.2     22.8      18.8          2.2       0.0           W   \n",
              "4  2/5/2008     19.7     25.7      77.4          4.8       0.0           W   \n",
              "\n",
              "   WindGustSpeed WindDir9am WindDir3pm  ...  Humidity9am  Humidity3pm  \\\n",
              "0             41          S        SSW  ...           92           84   \n",
              "1             41          W          E  ...           83           73   \n",
              "2             41        ESE        ESE  ...           88           86   \n",
              "3             41        NNE          E  ...           83           90   \n",
              "4             41        NNE          W  ...           88           74   \n",
              "\n",
              "   Pressure9am  Pressure3pm  Cloud9am  Cloud3pm  Temp9am  Temp3pm  RainToday  \\\n",
              "0       1017.6       1017.4         8         8     20.7     20.9        Yes   \n",
              "1       1017.9       1016.4         7         7     22.4     24.8        Yes   \n",
              "2       1016.7       1015.6         7         8     23.5     23.0        Yes   \n",
              "3       1014.2       1011.8         8         8     21.4     20.9        Yes   \n",
              "4       1008.3       1004.8         8         8     22.5     25.5        Yes   \n",
              "\n",
              "   RainTomorrow  \n",
              "0           Yes  \n",
              "1           Yes  \n",
              "2           Yes  \n",
              "3           Yes  \n",
              "4           Yes  \n",
              "\n",
              "[5 rows x 22 columns]"
            ],
            "text/html": [
              "\n",
              "  <div id=\"df-42926080-ac6b-4935-b39b-bf4c0395eae6\" class=\"colab-df-container\">\n",
              "    <div>\n",
              "<style scoped>\n",
              "    .dataframe tbody tr th:only-of-type {\n",
              "        vertical-align: middle;\n",
              "    }\n",
              "\n",
              "    .dataframe tbody tr th {\n",
              "        vertical-align: top;\n",
              "    }\n",
              "\n",
              "    .dataframe thead th {\n",
              "        text-align: right;\n",
              "    }\n",
              "</style>\n",
              "<table border=\"1\" class=\"dataframe\">\n",
              "  <thead>\n",
              "    <tr style=\"text-align: right;\">\n",
              "      <th></th>\n",
              "      <th>Date</th>\n",
              "      <th>MinTemp</th>\n",
              "      <th>MaxTemp</th>\n",
              "      <th>Rainfall</th>\n",
              "      <th>Evaporation</th>\n",
              "      <th>Sunshine</th>\n",
              "      <th>WindGustDir</th>\n",
              "      <th>WindGustSpeed</th>\n",
              "      <th>WindDir9am</th>\n",
              "      <th>WindDir3pm</th>\n",
              "      <th>...</th>\n",
              "      <th>Humidity9am</th>\n",
              "      <th>Humidity3pm</th>\n",
              "      <th>Pressure9am</th>\n",
              "      <th>Pressure3pm</th>\n",
              "      <th>Cloud9am</th>\n",
              "      <th>Cloud3pm</th>\n",
              "      <th>Temp9am</th>\n",
              "      <th>Temp3pm</th>\n",
              "      <th>RainToday</th>\n",
              "      <th>RainTomorrow</th>\n",
              "    </tr>\n",
              "  </thead>\n",
              "  <tbody>\n",
              "    <tr>\n",
              "      <th>0</th>\n",
              "      <td>2/1/2008</td>\n",
              "      <td>19.5</td>\n",
              "      <td>22.4</td>\n",
              "      <td>15.6</td>\n",
              "      <td>6.2</td>\n",
              "      <td>0.0</td>\n",
              "      <td>W</td>\n",
              "      <td>41</td>\n",
              "      <td>S</td>\n",
              "      <td>SSW</td>\n",
              "      <td>...</td>\n",
              "      <td>92</td>\n",
              "      <td>84</td>\n",
              "      <td>1017.6</td>\n",
              "      <td>1017.4</td>\n",
              "      <td>8</td>\n",
              "      <td>8</td>\n",
              "      <td>20.7</td>\n",
              "      <td>20.9</td>\n",
              "      <td>Yes</td>\n",
              "      <td>Yes</td>\n",
              "    </tr>\n",
              "    <tr>\n",
              "      <th>1</th>\n",
              "      <td>2/2/2008</td>\n",
              "      <td>19.5</td>\n",
              "      <td>25.6</td>\n",
              "      <td>6.0</td>\n",
              "      <td>3.4</td>\n",
              "      <td>2.7</td>\n",
              "      <td>W</td>\n",
              "      <td>41</td>\n",
              "      <td>W</td>\n",
              "      <td>E</td>\n",
              "      <td>...</td>\n",
              "      <td>83</td>\n",
              "      <td>73</td>\n",
              "      <td>1017.9</td>\n",
              "      <td>1016.4</td>\n",
              "      <td>7</td>\n",
              "      <td>7</td>\n",
              "      <td>22.4</td>\n",
              "      <td>24.8</td>\n",
              "      <td>Yes</td>\n",
              "      <td>Yes</td>\n",
              "    </tr>\n",
              "    <tr>\n",
              "      <th>2</th>\n",
              "      <td>2/3/2008</td>\n",
              "      <td>21.6</td>\n",
              "      <td>24.5</td>\n",
              "      <td>6.6</td>\n",
              "      <td>2.4</td>\n",
              "      <td>0.1</td>\n",
              "      <td>W</td>\n",
              "      <td>41</td>\n",
              "      <td>ESE</td>\n",
              "      <td>ESE</td>\n",
              "      <td>...</td>\n",
              "      <td>88</td>\n",
              "      <td>86</td>\n",
              "      <td>1016.7</td>\n",
              "      <td>1015.6</td>\n",
              "      <td>7</td>\n",
              "      <td>8</td>\n",
              "      <td>23.5</td>\n",
              "      <td>23.0</td>\n",
              "      <td>Yes</td>\n",
              "      <td>Yes</td>\n",
              "    </tr>\n",
              "    <tr>\n",
              "      <th>3</th>\n",
              "      <td>2/4/2008</td>\n",
              "      <td>20.2</td>\n",
              "      <td>22.8</td>\n",
              "      <td>18.8</td>\n",
              "      <td>2.2</td>\n",
              "      <td>0.0</td>\n",
              "      <td>W</td>\n",
              "      <td>41</td>\n",
              "      <td>NNE</td>\n",
              "      <td>E</td>\n",
              "      <td>...</td>\n",
              "      <td>83</td>\n",
              "      <td>90</td>\n",
              "      <td>1014.2</td>\n",
              "      <td>1011.8</td>\n",
              "      <td>8</td>\n",
              "      <td>8</td>\n",
              "      <td>21.4</td>\n",
              "      <td>20.9</td>\n",
              "      <td>Yes</td>\n",
              "      <td>Yes</td>\n",
              "    </tr>\n",
              "    <tr>\n",
              "      <th>4</th>\n",
              "      <td>2/5/2008</td>\n",
              "      <td>19.7</td>\n",
              "      <td>25.7</td>\n",
              "      <td>77.4</td>\n",
              "      <td>4.8</td>\n",
              "      <td>0.0</td>\n",
              "      <td>W</td>\n",
              "      <td>41</td>\n",
              "      <td>NNE</td>\n",
              "      <td>W</td>\n",
              "      <td>...</td>\n",
              "      <td>88</td>\n",
              "      <td>74</td>\n",
              "      <td>1008.3</td>\n",
              "      <td>1004.8</td>\n",
              "      <td>8</td>\n",
              "      <td>8</td>\n",
              "      <td>22.5</td>\n",
              "      <td>25.5</td>\n",
              "      <td>Yes</td>\n",
              "      <td>Yes</td>\n",
              "    </tr>\n",
              "  </tbody>\n",
              "</table>\n",
              "<p>5 rows × 22 columns</p>\n",
              "</div>\n",
              "    <div class=\"colab-df-buttons\">\n",
              "\n",
              "  <div class=\"colab-df-container\">\n",
              "    <button class=\"colab-df-convert\" onclick=\"convertToInteractive('df-42926080-ac6b-4935-b39b-bf4c0395eae6')\"\n",
              "            title=\"Convert this dataframe to an interactive table.\"\n",
              "            style=\"display:none;\">\n",
              "\n",
              "  <svg xmlns=\"http://www.w3.org/2000/svg\" height=\"24px\" viewBox=\"0 -960 960 960\">\n",
              "    <path d=\"M120-120v-720h720v720H120Zm60-500h600v-160H180v160Zm220 220h160v-160H400v160Zm0 220h160v-160H400v160ZM180-400h160v-160H180v160Zm440 0h160v-160H620v160ZM180-180h160v-160H180v160Zm440 0h160v-160H620v160Z\"/>\n",
              "  </svg>\n",
              "    </button>\n",
              "\n",
              "  <style>\n",
              "    .colab-df-container {\n",
              "      display:flex;\n",
              "      gap: 12px;\n",
              "    }\n",
              "\n",
              "    .colab-df-convert {\n",
              "      background-color: #E8F0FE;\n",
              "      border: none;\n",
              "      border-radius: 50%;\n",
              "      cursor: pointer;\n",
              "      display: none;\n",
              "      fill: #1967D2;\n",
              "      height: 32px;\n",
              "      padding: 0 0 0 0;\n",
              "      width: 32px;\n",
              "    }\n",
              "\n",
              "    .colab-df-convert:hover {\n",
              "      background-color: #E2EBFA;\n",
              "      box-shadow: 0px 1px 2px rgba(60, 64, 67, 0.3), 0px 1px 3px 1px rgba(60, 64, 67, 0.15);\n",
              "      fill: #174EA6;\n",
              "    }\n",
              "\n",
              "    .colab-df-buttons div {\n",
              "      margin-bottom: 4px;\n",
              "    }\n",
              "\n",
              "    [theme=dark] .colab-df-convert {\n",
              "      background-color: #3B4455;\n",
              "      fill: #D2E3FC;\n",
              "    }\n",
              "\n",
              "    [theme=dark] .colab-df-convert:hover {\n",
              "      background-color: #434B5C;\n",
              "      box-shadow: 0px 1px 3px 1px rgba(0, 0, 0, 0.15);\n",
              "      filter: drop-shadow(0px 1px 2px rgba(0, 0, 0, 0.3));\n",
              "      fill: #FFFFFF;\n",
              "    }\n",
              "  </style>\n",
              "\n",
              "    <script>\n",
              "      const buttonEl =\n",
              "        document.querySelector('#df-42926080-ac6b-4935-b39b-bf4c0395eae6 button.colab-df-convert');\n",
              "      buttonEl.style.display =\n",
              "        google.colab.kernel.accessAllowed ? 'block' : 'none';\n",
              "\n",
              "      async function convertToInteractive(key) {\n",
              "        const element = document.querySelector('#df-42926080-ac6b-4935-b39b-bf4c0395eae6');\n",
              "        const dataTable =\n",
              "          await google.colab.kernel.invokeFunction('convertToInteractive',\n",
              "                                                    [key], {});\n",
              "        if (!dataTable) return;\n",
              "\n",
              "        const docLinkHtml = 'Like what you see? Visit the ' +\n",
              "          '<a target=\"_blank\" href=https://colab.research.google.com/notebooks/data_table.ipynb>data table notebook</a>'\n",
              "          + ' to learn more about interactive tables.';\n",
              "        element.innerHTML = '';\n",
              "        dataTable['output_type'] = 'display_data';\n",
              "        await google.colab.output.renderOutput(dataTable, element);\n",
              "        const docLink = document.createElement('div');\n",
              "        docLink.innerHTML = docLinkHtml;\n",
              "        element.appendChild(docLink);\n",
              "      }\n",
              "    </script>\n",
              "  </div>\n",
              "\n",
              "\n",
              "<div id=\"df-51f00c5d-2999-43ca-80d2-4c8295fc0120\">\n",
              "  <button class=\"colab-df-quickchart\" onclick=\"quickchart('df-51f00c5d-2999-43ca-80d2-4c8295fc0120')\"\n",
              "            title=\"Suggest charts\"\n",
              "            style=\"display:none;\">\n",
              "\n",
              "<svg xmlns=\"http://www.w3.org/2000/svg\" height=\"24px\"viewBox=\"0 0 24 24\"\n",
              "     width=\"24px\">\n",
              "    <g>\n",
              "        <path d=\"M19 3H5c-1.1 0-2 .9-2 2v14c0 1.1.9 2 2 2h14c1.1 0 2-.9 2-2V5c0-1.1-.9-2-2-2zM9 17H7v-7h2v7zm4 0h-2V7h2v10zm4 0h-2v-4h2v4z\"/>\n",
              "    </g>\n",
              "</svg>\n",
              "  </button>\n",
              "\n",
              "<style>\n",
              "  .colab-df-quickchart {\n",
              "      --bg-color: #E8F0FE;\n",
              "      --fill-color: #1967D2;\n",
              "      --hover-bg-color: #E2EBFA;\n",
              "      --hover-fill-color: #174EA6;\n",
              "      --disabled-fill-color: #AAA;\n",
              "      --disabled-bg-color: #DDD;\n",
              "  }\n",
              "\n",
              "  [theme=dark] .colab-df-quickchart {\n",
              "      --bg-color: #3B4455;\n",
              "      --fill-color: #D2E3FC;\n",
              "      --hover-bg-color: #434B5C;\n",
              "      --hover-fill-color: #FFFFFF;\n",
              "      --disabled-bg-color: #3B4455;\n",
              "      --disabled-fill-color: #666;\n",
              "  }\n",
              "\n",
              "  .colab-df-quickchart {\n",
              "    background-color: var(--bg-color);\n",
              "    border: none;\n",
              "    border-radius: 50%;\n",
              "    cursor: pointer;\n",
              "    display: none;\n",
              "    fill: var(--fill-color);\n",
              "    height: 32px;\n",
              "    padding: 0;\n",
              "    width: 32px;\n",
              "  }\n",
              "\n",
              "  .colab-df-quickchart:hover {\n",
              "    background-color: var(--hover-bg-color);\n",
              "    box-shadow: 0 1px 2px rgba(60, 64, 67, 0.3), 0 1px 3px 1px rgba(60, 64, 67, 0.15);\n",
              "    fill: var(--button-hover-fill-color);\n",
              "  }\n",
              "\n",
              "  .colab-df-quickchart-complete:disabled,\n",
              "  .colab-df-quickchart-complete:disabled:hover {\n",
              "    background-color: var(--disabled-bg-color);\n",
              "    fill: var(--disabled-fill-color);\n",
              "    box-shadow: none;\n",
              "  }\n",
              "\n",
              "  .colab-df-spinner {\n",
              "    border: 2px solid var(--fill-color);\n",
              "    border-color: transparent;\n",
              "    border-bottom-color: var(--fill-color);\n",
              "    animation:\n",
              "      spin 1s steps(1) infinite;\n",
              "  }\n",
              "\n",
              "  @keyframes spin {\n",
              "    0% {\n",
              "      border-color: transparent;\n",
              "      border-bottom-color: var(--fill-color);\n",
              "      border-left-color: var(--fill-color);\n",
              "    }\n",
              "    20% {\n",
              "      border-color: transparent;\n",
              "      border-left-color: var(--fill-color);\n",
              "      border-top-color: var(--fill-color);\n",
              "    }\n",
              "    30% {\n",
              "      border-color: transparent;\n",
              "      border-left-color: var(--fill-color);\n",
              "      border-top-color: var(--fill-color);\n",
              "      border-right-color: var(--fill-color);\n",
              "    }\n",
              "    40% {\n",
              "      border-color: transparent;\n",
              "      border-right-color: var(--fill-color);\n",
              "      border-top-color: var(--fill-color);\n",
              "    }\n",
              "    60% {\n",
              "      border-color: transparent;\n",
              "      border-right-color: var(--fill-color);\n",
              "    }\n",
              "    80% {\n",
              "      border-color: transparent;\n",
              "      border-right-color: var(--fill-color);\n",
              "      border-bottom-color: var(--fill-color);\n",
              "    }\n",
              "    90% {\n",
              "      border-color: transparent;\n",
              "      border-bottom-color: var(--fill-color);\n",
              "    }\n",
              "  }\n",
              "</style>\n",
              "\n",
              "  <script>\n",
              "    async function quickchart(key) {\n",
              "      const quickchartButtonEl =\n",
              "        document.querySelector('#' + key + ' button');\n",
              "      quickchartButtonEl.disabled = true;  // To prevent multiple clicks.\n",
              "      quickchartButtonEl.classList.add('colab-df-spinner');\n",
              "      try {\n",
              "        const charts = await google.colab.kernel.invokeFunction(\n",
              "            'suggestCharts', [key], {});\n",
              "      } catch (error) {\n",
              "        console.error('Error during call to suggestCharts:', error);\n",
              "      }\n",
              "      quickchartButtonEl.classList.remove('colab-df-spinner');\n",
              "      quickchartButtonEl.classList.add('colab-df-quickchart-complete');\n",
              "    }\n",
              "    (() => {\n",
              "      let quickchartButtonEl =\n",
              "        document.querySelector('#df-51f00c5d-2999-43ca-80d2-4c8295fc0120 button');\n",
              "      quickchartButtonEl.style.display =\n",
              "        google.colab.kernel.accessAllowed ? 'block' : 'none';\n",
              "    })();\n",
              "  </script>\n",
              "</div>\n",
              "\n",
              "    </div>\n",
              "  </div>\n"
            ],
            "application/vnd.google.colaboratory.intrinsic+json": {
              "type": "dataframe",
              "variable_name": "df"
            }
          },
          "metadata": {},
          "execution_count": 84
        }
      ]
    },
    {
      "cell_type": "code",
      "source": [
        "df_sydney_processed = pd.get_dummies(data=df, columns=['RainToday', 'WindGustDir', 'WindDir9am', 'WindDir3pm'])"
      ],
      "metadata": {
        "id": "x9l539N3AuHP"
      },
      "execution_count": 85,
      "outputs": []
    },
    {
      "cell_type": "code",
      "source": [
        "df_sydney_processed.replace(['No', 'Yes'], [0,1], inplace=True)"
      ],
      "metadata": {
        "id": "teZWPRbZAzag"
      },
      "execution_count": 86,
      "outputs": []
    },
    {
      "cell_type": "code",
      "source": [
        "df_sydney_processed.drop('Date',axis=1,inplace=True)"
      ],
      "metadata": {
        "id": "949XTsDiA2Tp"
      },
      "execution_count": 87,
      "outputs": []
    },
    {
      "cell_type": "code",
      "source": [
        "\n",
        "df_sydney_processed = df_sydney_processed.astype(float)"
      ],
      "metadata": {
        "id": "LhyYK-3sA4ID"
      },
      "execution_count": 88,
      "outputs": []
    },
    {
      "cell_type": "code",
      "source": [
        "features = df_sydney_processed.drop(columns='RainTomorrow', axis=1)\n",
        "Y = df_sydney_processed['RainTomorrow']"
      ],
      "metadata": {
        "id": "GwSzDtJAA5YM"
      },
      "execution_count": 89,
      "outputs": []
    },
    {
      "cell_type": "code",
      "source": [
        "df2 = df_sydney_processed.to_numpy()"
      ],
      "metadata": {
        "id": "qGLM0Uy5A_Ho"
      },
      "execution_count": 90,
      "outputs": []
    },
    {
      "cell_type": "code",
      "source": [
        "Y = Y.to_numpy()"
      ],
      "metadata": {
        "id": "MhxX2kCTBXFT"
      },
      "execution_count": 91,
      "outputs": []
    },
    {
      "cell_type": "code",
      "source": [
        "X_train,X_test,y_train,y_test = train_test_split(df2,Y,train_size = 0.8,random_state = 0)"
      ],
      "metadata": {
        "id": "xUnwQeMiBd_C"
      },
      "execution_count": 92,
      "outputs": []
    },
    {
      "cell_type": "code",
      "source": [
        "X_train = torch.from_numpy(X_train).float().to(device)\n",
        "X_test = torch.from_numpy(X_test).float().to(device)\n",
        "y_train = torch.from_numpy(y_train).float().to(device)\n",
        "y_test = torch.from_numpy(y_test).float().to(device)"
      ],
      "metadata": {
        "id": "p7LCP5jhB6e-"
      },
      "execution_count": 93,
      "outputs": []
    },
    {
      "cell_type": "code",
      "source": [
        "X_train.shape"
      ],
      "metadata": {
        "colab": {
          "base_uri": "https://localhost:8080/"
        },
        "id": "fmmEToCcEihX",
        "outputId": "66d1c354-4a67-496c-f049-1f98d25ee3e6"
      },
      "execution_count": 94,
      "outputs": [
        {
          "output_type": "execute_result",
          "data": {
            "text/plain": [
              "torch.Size([2616, 67])"
            ]
          },
          "metadata": {},
          "execution_count": 94
        }
      ]
    },
    {
      "cell_type": "code",
      "source": [
        "class neural(nn.Module):\n",
        "  def __init__(self, in_size):\n",
        "    super().__init__()\n",
        "    self.output = nn.Sequential(\n",
        "        nn.Linear(in_size, 10),\n",
        "        nn.ReLU(),\n",
        "        nn.Linear(10,1),\n",
        "        nn.Sigmoid()\n",
        "    )\n",
        "  def forward(self, X):\n",
        "    return self.output(X)\n"
      ],
      "metadata": {
        "id": "IwbzCO7eCgoP"
      },
      "execution_count": 95,
      "outputs": []
    },
    {
      "cell_type": "code",
      "source": [
        "model = neural(in_size = 67).to(device)"
      ],
      "metadata": {
        "id": "t0cbh06tDNbC"
      },
      "execution_count": 96,
      "outputs": []
    },
    {
      "cell_type": "code",
      "source": [
        "def accuracy_fn(y_true, y_pred):\n",
        "    correct = torch.eq(y_true, y_pred).sum().item() # torch.eq() calculates where two tensors are equal\n",
        "    acc = (correct / len(y_pred)) * 100\n",
        "    return acc"
      ],
      "metadata": {
        "id": "HfUmhFrODnb7"
      },
      "execution_count": 97,
      "outputs": []
    },
    {
      "cell_type": "code",
      "source": [
        "loss_fn = nn.BCEWithLogitsLoss()\n",
        "optimizer = torch.optim.Adam(model.parameters(), lr=0.1)"
      ],
      "metadata": {
        "id": "4KktsqjCD5hg"
      },
      "execution_count": 98,
      "outputs": []
    },
    {
      "cell_type": "code",
      "source": [
        "torch.manual_seed(42)\n",
        "epochs = 10000"
      ],
      "metadata": {
        "id": "lsVVaD42D7kV"
      },
      "execution_count": 99,
      "outputs": []
    },
    {
      "cell_type": "code",
      "source": [
        "for epoch in range(epochs):\n",
        "    # 1. Forward pass\n",
        "    y_logits = model(X_train).squeeze()\n",
        "    y_pred = torch.round(y_logits) # logits -> prediction probabilities -> prediction labels\n",
        "\n",
        "    # 2. Calculate loss and accuracy\n",
        "    loss = loss_fn(y_logits, y_train) # BCEWithLogitsLoss calculates loss using logits\n",
        "    acc = accuracy_fn(y_true=y_train,\n",
        "                      y_pred=y_pred)\n",
        "\n",
        "    # 3. Optimizer zero grad\n",
        "    optimizer.zero_grad()\n",
        "\n",
        "    # 4. Loss backward\n",
        "    loss.backward()\n",
        "\n",
        "    # 5. Optimizer step\n",
        "    optimizer.step()\n",
        "\n",
        "    ### Testing\n",
        "    model.eval()\n",
        "    with torch.inference_mode():\n",
        "      # 1. Forward pass\n",
        "      test_logits = model(X_test).squeeze()\n",
        "      test_pred = torch.round(test_logits) # logits -> prediction probabilities -> prediction labels\n",
        "      # 2. Calcuate loss and accuracy\n",
        "      test_loss = loss_fn(test_logits, y_test)\n",
        "      test_acc = accuracy_fn(y_true=y_test,\n",
        "                             y_pred=test_pred)\n",
        "\n",
        "    # Print out what's happening\n",
        "    if epoch % 100 == 0:\n",
        "        print(f\"Epoch: {epoch} | Loss: {loss:.5f}, Accuracy: {acc:.2f}% | Test Loss: {test_loss:.5f}, Test Accuracy: {test_acc:.2f}%\")"
      ],
      "metadata": {
        "colab": {
          "base_uri": "https://localhost:8080/"
        },
        "id": "0XBUfN6yEAXP",
        "outputId": "a4ab92f9-8c6f-4046-befb-95b478eb8548"
      },
      "execution_count": 100,
      "outputs": [
        {
          "output_type": "stream",
          "name": "stdout",
          "text": [
            "Epoch: 0 | Loss: 0.69315, Accuracy: 74.46% | Test Loss: 0.69315, Test Accuracy: 72.37%\n",
            "Epoch: 100 | Loss: 0.69315, Accuracy: 74.46% | Test Loss: 0.69315, Test Accuracy: 72.37%\n",
            "Epoch: 200 | Loss: 0.69315, Accuracy: 74.46% | Test Loss: 0.69315, Test Accuracy: 72.37%\n",
            "Epoch: 300 | Loss: 0.69315, Accuracy: 74.46% | Test Loss: 0.69315, Test Accuracy: 72.37%\n",
            "Epoch: 400 | Loss: 0.69315, Accuracy: 74.46% | Test Loss: 0.69315, Test Accuracy: 72.37%\n",
            "Epoch: 500 | Loss: 0.69315, Accuracy: 74.46% | Test Loss: 0.69315, Test Accuracy: 72.37%\n",
            "Epoch: 600 | Loss: 0.69315, Accuracy: 74.46% | Test Loss: 0.69315, Test Accuracy: 72.37%\n",
            "Epoch: 700 | Loss: 0.69315, Accuracy: 74.46% | Test Loss: 0.69315, Test Accuracy: 72.37%\n",
            "Epoch: 800 | Loss: 0.69315, Accuracy: 74.46% | Test Loss: 0.69315, Test Accuracy: 72.37%\n",
            "Epoch: 900 | Loss: 0.69315, Accuracy: 74.46% | Test Loss: 0.69315, Test Accuracy: 72.37%\n",
            "Epoch: 1000 | Loss: 0.69315, Accuracy: 74.46% | Test Loss: 0.69315, Test Accuracy: 72.37%\n",
            "Epoch: 1100 | Loss: 0.69315, Accuracy: 74.46% | Test Loss: 0.69315, Test Accuracy: 72.37%\n",
            "Epoch: 1200 | Loss: 0.69315, Accuracy: 74.46% | Test Loss: 0.69315, Test Accuracy: 72.37%\n",
            "Epoch: 1300 | Loss: 0.69315, Accuracy: 74.46% | Test Loss: 0.69315, Test Accuracy: 72.37%\n",
            "Epoch: 1400 | Loss: 0.69315, Accuracy: 74.46% | Test Loss: 0.69315, Test Accuracy: 72.37%\n",
            "Epoch: 1500 | Loss: 0.69315, Accuracy: 74.46% | Test Loss: 0.69315, Test Accuracy: 72.37%\n",
            "Epoch: 1600 | Loss: 0.69315, Accuracy: 74.46% | Test Loss: 0.69315, Test Accuracy: 72.37%\n",
            "Epoch: 1700 | Loss: 0.69315, Accuracy: 74.46% | Test Loss: 0.69315, Test Accuracy: 72.37%\n",
            "Epoch: 1800 | Loss: 0.69315, Accuracy: 74.46% | Test Loss: 0.69315, Test Accuracy: 72.37%\n",
            "Epoch: 1900 | Loss: 0.69315, Accuracy: 74.46% | Test Loss: 0.69315, Test Accuracy: 72.37%\n",
            "Epoch: 2000 | Loss: 0.69315, Accuracy: 74.46% | Test Loss: 0.69315, Test Accuracy: 72.37%\n",
            "Epoch: 2100 | Loss: 0.69315, Accuracy: 74.46% | Test Loss: 0.69315, Test Accuracy: 72.37%\n",
            "Epoch: 2200 | Loss: 0.69315, Accuracy: 74.46% | Test Loss: 0.69315, Test Accuracy: 72.37%\n",
            "Epoch: 2300 | Loss: 0.69315, Accuracy: 74.46% | Test Loss: 0.69315, Test Accuracy: 72.37%\n",
            "Epoch: 2400 | Loss: 0.69315, Accuracy: 74.46% | Test Loss: 0.69315, Test Accuracy: 72.37%\n",
            "Epoch: 2500 | Loss: 0.69315, Accuracy: 74.46% | Test Loss: 0.69315, Test Accuracy: 72.37%\n",
            "Epoch: 2600 | Loss: 0.69315, Accuracy: 74.46% | Test Loss: 0.69315, Test Accuracy: 72.37%\n",
            "Epoch: 2700 | Loss: 0.69315, Accuracy: 74.46% | Test Loss: 0.69315, Test Accuracy: 72.37%\n",
            "Epoch: 2800 | Loss: 0.69315, Accuracy: 74.46% | Test Loss: 0.69315, Test Accuracy: 72.37%\n",
            "Epoch: 2900 | Loss: 0.69315, Accuracy: 74.46% | Test Loss: 0.69315, Test Accuracy: 72.37%\n",
            "Epoch: 3000 | Loss: 0.69315, Accuracy: 74.46% | Test Loss: 0.69315, Test Accuracy: 72.37%\n",
            "Epoch: 3100 | Loss: 0.69315, Accuracy: 74.46% | Test Loss: 0.69315, Test Accuracy: 72.37%\n",
            "Epoch: 3200 | Loss: 0.69315, Accuracy: 74.46% | Test Loss: 0.69315, Test Accuracy: 72.37%\n",
            "Epoch: 3300 | Loss: 0.69315, Accuracy: 74.46% | Test Loss: 0.69315, Test Accuracy: 72.37%\n",
            "Epoch: 3400 | Loss: 0.69315, Accuracy: 74.46% | Test Loss: 0.69315, Test Accuracy: 72.37%\n",
            "Epoch: 3500 | Loss: 0.69315, Accuracy: 74.46% | Test Loss: 0.69315, Test Accuracy: 72.37%\n",
            "Epoch: 3600 | Loss: 0.69315, Accuracy: 74.46% | Test Loss: 0.69315, Test Accuracy: 72.37%\n",
            "Epoch: 3700 | Loss: 0.69315, Accuracy: 74.46% | Test Loss: 0.69315, Test Accuracy: 72.37%\n",
            "Epoch: 3800 | Loss: 0.69315, Accuracy: 74.46% | Test Loss: 0.69315, Test Accuracy: 72.37%\n",
            "Epoch: 3900 | Loss: 0.69315, Accuracy: 74.46% | Test Loss: 0.69315, Test Accuracy: 72.37%\n",
            "Epoch: 4000 | Loss: 0.69315, Accuracy: 74.46% | Test Loss: 0.69315, Test Accuracy: 72.37%\n",
            "Epoch: 4100 | Loss: 0.69315, Accuracy: 74.46% | Test Loss: 0.69315, Test Accuracy: 72.37%\n",
            "Epoch: 4200 | Loss: 0.69315, Accuracy: 74.46% | Test Loss: 0.69315, Test Accuracy: 72.37%\n",
            "Epoch: 4300 | Loss: 0.69315, Accuracy: 74.46% | Test Loss: 0.69315, Test Accuracy: 72.37%\n",
            "Epoch: 4400 | Loss: 0.69315, Accuracy: 74.46% | Test Loss: 0.69315, Test Accuracy: 72.37%\n",
            "Epoch: 4500 | Loss: 0.69315, Accuracy: 74.46% | Test Loss: 0.69315, Test Accuracy: 72.37%\n",
            "Epoch: 4600 | Loss: 0.69315, Accuracy: 74.46% | Test Loss: 0.69315, Test Accuracy: 72.37%\n",
            "Epoch: 4700 | Loss: 0.69315, Accuracy: 74.46% | Test Loss: 0.69315, Test Accuracy: 72.37%\n",
            "Epoch: 4800 | Loss: 0.69315, Accuracy: 74.46% | Test Loss: 0.69315, Test Accuracy: 72.37%\n",
            "Epoch: 4900 | Loss: 0.69315, Accuracy: 74.46% | Test Loss: 0.69315, Test Accuracy: 72.37%\n",
            "Epoch: 5000 | Loss: 0.69315, Accuracy: 74.46% | Test Loss: 0.69315, Test Accuracy: 72.37%\n",
            "Epoch: 5100 | Loss: 0.69315, Accuracy: 74.46% | Test Loss: 0.69315, Test Accuracy: 72.37%\n",
            "Epoch: 5200 | Loss: 0.69315, Accuracy: 74.46% | Test Loss: 0.69315, Test Accuracy: 72.37%\n",
            "Epoch: 5300 | Loss: 0.69315, Accuracy: 74.46% | Test Loss: 0.69315, Test Accuracy: 72.37%\n",
            "Epoch: 5400 | Loss: 0.69315, Accuracy: 74.46% | Test Loss: 0.69315, Test Accuracy: 72.37%\n",
            "Epoch: 5500 | Loss: 0.69315, Accuracy: 74.46% | Test Loss: 0.69315, Test Accuracy: 72.37%\n",
            "Epoch: 5600 | Loss: 0.69315, Accuracy: 74.46% | Test Loss: 0.69315, Test Accuracy: 72.37%\n",
            "Epoch: 5700 | Loss: 0.69315, Accuracy: 74.46% | Test Loss: 0.69315, Test Accuracy: 72.37%\n",
            "Epoch: 5800 | Loss: 0.69315, Accuracy: 74.46% | Test Loss: 0.69315, Test Accuracy: 72.37%\n",
            "Epoch: 5900 | Loss: 0.69315, Accuracy: 74.46% | Test Loss: 0.69315, Test Accuracy: 72.37%\n",
            "Epoch: 6000 | Loss: 0.69315, Accuracy: 74.46% | Test Loss: 0.69315, Test Accuracy: 72.37%\n",
            "Epoch: 6100 | Loss: 0.69315, Accuracy: 74.46% | Test Loss: 0.69315, Test Accuracy: 72.37%\n",
            "Epoch: 6200 | Loss: 0.69315, Accuracy: 74.46% | Test Loss: 0.69315, Test Accuracy: 72.37%\n",
            "Epoch: 6300 | Loss: 0.69315, Accuracy: 74.46% | Test Loss: 0.69315, Test Accuracy: 72.37%\n",
            "Epoch: 6400 | Loss: 0.69315, Accuracy: 74.46% | Test Loss: 0.69315, Test Accuracy: 72.37%\n",
            "Epoch: 6500 | Loss: 0.69315, Accuracy: 74.46% | Test Loss: 0.69315, Test Accuracy: 72.37%\n",
            "Epoch: 6600 | Loss: 0.69315, Accuracy: 74.46% | Test Loss: 0.69315, Test Accuracy: 72.37%\n",
            "Epoch: 6700 | Loss: 0.69315, Accuracy: 74.46% | Test Loss: 0.69315, Test Accuracy: 72.37%\n",
            "Epoch: 6800 | Loss: 0.69315, Accuracy: 74.46% | Test Loss: 0.69315, Test Accuracy: 72.37%\n",
            "Epoch: 6900 | Loss: 0.69315, Accuracy: 74.46% | Test Loss: 0.69315, Test Accuracy: 72.37%\n",
            "Epoch: 7000 | Loss: 0.69315, Accuracy: 74.46% | Test Loss: 0.69315, Test Accuracy: 72.37%\n",
            "Epoch: 7100 | Loss: 0.69315, Accuracy: 74.46% | Test Loss: 0.69315, Test Accuracy: 72.37%\n",
            "Epoch: 7200 | Loss: 0.69315, Accuracy: 74.46% | Test Loss: 0.69315, Test Accuracy: 72.37%\n",
            "Epoch: 7300 | Loss: 0.69315, Accuracy: 74.46% | Test Loss: 0.69315, Test Accuracy: 72.37%\n",
            "Epoch: 7400 | Loss: 0.69315, Accuracy: 74.46% | Test Loss: 0.69315, Test Accuracy: 72.37%\n",
            "Epoch: 7500 | Loss: 0.69315, Accuracy: 74.46% | Test Loss: 0.69315, Test Accuracy: 72.37%\n",
            "Epoch: 7600 | Loss: 0.69315, Accuracy: 74.46% | Test Loss: 0.69315, Test Accuracy: 72.37%\n",
            "Epoch: 7700 | Loss: 0.69315, Accuracy: 74.46% | Test Loss: 0.69315, Test Accuracy: 72.37%\n",
            "Epoch: 7800 | Loss: 0.69315, Accuracy: 74.46% | Test Loss: 0.69315, Test Accuracy: 72.37%\n",
            "Epoch: 7900 | Loss: 0.69315, Accuracy: 74.46% | Test Loss: 0.69315, Test Accuracy: 72.37%\n",
            "Epoch: 8000 | Loss: 0.69315, Accuracy: 74.46% | Test Loss: 0.69315, Test Accuracy: 72.37%\n",
            "Epoch: 8100 | Loss: 0.69315, Accuracy: 74.46% | Test Loss: 0.69315, Test Accuracy: 72.37%\n",
            "Epoch: 8200 | Loss: 0.69315, Accuracy: 74.46% | Test Loss: 0.69315, Test Accuracy: 72.37%\n",
            "Epoch: 8300 | Loss: 0.69315, Accuracy: 74.46% | Test Loss: 0.69315, Test Accuracy: 72.37%\n",
            "Epoch: 8400 | Loss: 0.69315, Accuracy: 74.46% | Test Loss: 0.69315, Test Accuracy: 72.37%\n",
            "Epoch: 8500 | Loss: 0.69315, Accuracy: 74.46% | Test Loss: 0.69315, Test Accuracy: 72.37%\n",
            "Epoch: 8600 | Loss: 0.69315, Accuracy: 74.46% | Test Loss: 0.69315, Test Accuracy: 72.37%\n",
            "Epoch: 8700 | Loss: 0.69315, Accuracy: 74.46% | Test Loss: 0.69315, Test Accuracy: 72.37%\n",
            "Epoch: 8800 | Loss: 0.69315, Accuracy: 74.46% | Test Loss: 0.69315, Test Accuracy: 72.37%\n",
            "Epoch: 8900 | Loss: 0.69315, Accuracy: 74.46% | Test Loss: 0.69315, Test Accuracy: 72.37%\n",
            "Epoch: 9000 | Loss: 0.69315, Accuracy: 74.46% | Test Loss: 0.69315, Test Accuracy: 72.37%\n",
            "Epoch: 9100 | Loss: 0.69315, Accuracy: 74.46% | Test Loss: 0.69315, Test Accuracy: 72.37%\n",
            "Epoch: 9200 | Loss: 0.69315, Accuracy: 74.46% | Test Loss: 0.69315, Test Accuracy: 72.37%\n",
            "Epoch: 9300 | Loss: 0.69315, Accuracy: 74.46% | Test Loss: 0.69315, Test Accuracy: 72.37%\n",
            "Epoch: 9400 | Loss: 0.69315, Accuracy: 74.46% | Test Loss: 0.69315, Test Accuracy: 72.37%\n",
            "Epoch: 9500 | Loss: 0.69315, Accuracy: 74.46% | Test Loss: 0.69315, Test Accuracy: 72.37%\n",
            "Epoch: 9600 | Loss: 0.69315, Accuracy: 74.46% | Test Loss: 0.69315, Test Accuracy: 72.37%\n",
            "Epoch: 9700 | Loss: 0.69315, Accuracy: 74.46% | Test Loss: 0.69315, Test Accuracy: 72.37%\n",
            "Epoch: 9800 | Loss: 0.69315, Accuracy: 74.46% | Test Loss: 0.69315, Test Accuracy: 72.37%\n",
            "Epoch: 9900 | Loss: 0.69315, Accuracy: 74.46% | Test Loss: 0.69315, Test Accuracy: 72.37%\n"
          ]
        }
      ]
    }
  ]
}