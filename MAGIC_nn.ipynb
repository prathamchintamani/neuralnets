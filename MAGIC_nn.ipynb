{
  "nbformat": 4,
  "nbformat_minor": 0,
  "metadata": {
    "colab": {
      "provenance": [],
      "gpuType": "T4",
      "include_colab_link": true
    },
    "kernelspec": {
      "name": "python3",
      "display_name": "Python 3"
    },
    "language_info": {
      "name": "python"
    },
    "accelerator": "GPU"
  },
  "cells": [
    {
      "cell_type": "markdown",
      "metadata": {
        "id": "view-in-github",
        "colab_type": "text"
      },
      "source": [
        "<a href=\"https://colab.research.google.com/github/prathamchintamani/neuralnets/blob/main/MAGIC_nn.ipynb\" target=\"_parent\"><img src=\"https://colab.research.google.com/assets/colab-badge.svg\" alt=\"Open In Colab\"/></a>"
      ]
    },
    {
      "cell_type": "markdown",
      "source": [
        "https://archive.ics.uci.edu/dataset/267/banknote+authentication\n",
        "dataset"
      ],
      "metadata": {
        "id": "32IA83CsCcHB"
      }
    },
    {
      "cell_type": "code",
      "execution_count": null,
      "metadata": {
        "id": "bE3N703p_nCb"
      },
      "outputs": [],
      "source": [
        "#libraries\n",
        "import pandas as pd\n",
        "import numpy as np\n",
        "from sklearn.model_selection import train_test_split"
      ]
    },
    {
      "cell_type": "code",
      "source": [
        "import torch\n",
        "from torch import nn"
      ],
      "metadata": {
        "id": "Jw7_G9aE6w2z"
      },
      "execution_count": null,
      "outputs": []
    },
    {
      "cell_type": "code",
      "source": [
        "if torch.cuda.is_available():\n",
        "  device = 'cuda'\n",
        "else:\n",
        "  device = 'cpu'"
      ],
      "metadata": {
        "id": "J4XXZG9-62a5"
      },
      "execution_count": null,
      "outputs": []
    },
    {
      "cell_type": "markdown",
      "source": [],
      "metadata": {
        "id": "EY57SU6dCgai"
      }
    },
    {
      "cell_type": "code",
      "source": [
        "#data loading\n",
        "cols = [\"fLength\", \"fWidth\", \"fSize\", \"fConc\", \"fConc1\", \"fAsym\", \"fM3Long\", \"fM3Trans\", \"fALpha\", \"fDist\", \"target\"]\n",
        "df = pd.read_csv(\"magic04.data\",names = cols)\n",
        "df[\"target\"] = (df[\"target\"] == \"g\").astype(int)\n",
        "df = df.sample(frac = 1)\n",
        "df = df.reset_index(drop = True)"
      ],
      "metadata": {
        "id": "zBAWfOuA_xfG"
      },
      "execution_count": null,
      "outputs": []
    },
    {
      "cell_type": "code",
      "source": [
        "#preprocessing\n",
        "y = df.target\n",
        "X = df.drop([\"target\"],axis = 1)\n",
        "X_train ,X_test,y_train,y_test = train_test_split(X,y,train_size = 0.70,random_state = 0)"
      ],
      "metadata": {
        "id": "S9grXOvhH9gj"
      },
      "execution_count": null,
      "outputs": []
    },
    {
      "cell_type": "code",
      "source": [
        "#pddf to numpy\n",
        "X_train = X_train.to_numpy()\n",
        "X_test = X_test.to_numpy()\n",
        "y_train = y_train.to_numpy()\n",
        "y_test = y_test.to_numpy()"
      ],
      "metadata": {
        "id": "orRsMfXAKVxu"
      },
      "execution_count": null,
      "outputs": []
    },
    {
      "cell_type": "code",
      "source": [
        "#assigning number of rows to variables\n",
        "n = np.shape(X_train)[0]\n",
        "m = np.shape(X_test)[0]"
      ],
      "metadata": {
        "id": "Yr7m3ZAcK7s0"
      },
      "execution_count": null,
      "outputs": []
    },
    {
      "cell_type": "code",
      "source": [
        "def accuracy_fn(y_true, y_pred):\n",
        "    correct = torch.eq(y_true, y_pred).sum().item() # torch.eq() calculates where two tensors are equal\n",
        "    acc = (correct / len(y_pred)) * 100\n",
        "    return acc"
      ],
      "metadata": {
        "id": "Vrv9yrur-7WJ"
      },
      "execution_count": null,
      "outputs": []
    },
    {
      "cell_type": "code",
      "source": [
        "X_train = torch.from_numpy(X_train)\n",
        "X_test = torch.from_numpy(X_test)\n",
        "y_train = torch.from_numpy(y_train)\n",
        "y_test = torch.from_numpy(y_test)"
      ],
      "metadata": {
        "id": "VRjzLQDr7QGX"
      },
      "execution_count": null,
      "outputs": []
    },
    {
      "cell_type": "code",
      "source": [
        "X_train = X_train.type(torch.float)\n",
        "X_test = X_test.type(torch.float)\n",
        "y_train = y_train.type(torch.float)\n",
        "y_test = y_test.type(torch.float)"
      ],
      "metadata": {
        "id": "f3G1_PylPc7f"
      },
      "execution_count": null,
      "outputs": []
    },
    {
      "cell_type": "code",
      "source": [
        "X_train = X_train.to(device)\n",
        "X_test = X_test.to(device)\n",
        "y_train = y_train.to(device)\n",
        "y_test = y_test.to(device)"
      ],
      "metadata": {
        "id": "4YnRpGGBP1XD"
      },
      "execution_count": null,
      "outputs": []
    },
    {
      "cell_type": "code",
      "source": [
        "class neural(nn.Module):\n",
        "  def __init__(self, in_size, hidden_size = 8):\n",
        "    super().__init__()\n",
        "    self.layer1 = nn.Linear(in_features=in_size,out_features=hidden_size)\n",
        "    self.layer2 = nn.Linear(in_features=hidden_size,out_features=hidden_size)\n",
        "    self.layer3 = nn.Linear(in_features=hidden_size,out_features=hidden_size)\n",
        "    self.layer4 = nn.Linear(in_features=hidden_size,out_features=1)\n",
        "    self.relu=nn.ReLU()\n",
        "    self.sigmoid=nn.Sigmoid()\n",
        "  def forward(self, X):\n",
        "    return self.sigmoid(self.layer4(self.relu(self.layer3(self.relu(self.layer2(self.relu(self.layer1(X))))))))\n"
      ],
      "metadata": {
        "id": "vFs5LnG87qcm"
      },
      "execution_count": null,
      "outputs": []
    },
    {
      "cell_type": "code",
      "source": [
        "model = neural(in_size = 10, hidden_size = 8).to(device)"
      ],
      "metadata": {
        "id": "EJFkDjT1_WKJ"
      },
      "execution_count": null,
      "outputs": []
    },
    {
      "cell_type": "code",
      "source": [
        "print(model)"
      ],
      "metadata": {
        "id": "N1tvyGPz9pY7",
        "colab": {
          "base_uri": "https://localhost:8080/"
        },
        "outputId": "2c153b5f-80af-4c53-9573-bf8ad7603e08"
      },
      "execution_count": null,
      "outputs": [
        {
          "output_type": "stream",
          "name": "stdout",
          "text": [
            "neural(\n",
            "  (layer1): Linear(in_features=10, out_features=8, bias=True)\n",
            "  (layer2): Linear(in_features=8, out_features=8, bias=True)\n",
            "  (layer3): Linear(in_features=8, out_features=8, bias=True)\n",
            "  (layer4): Linear(in_features=8, out_features=1, bias=True)\n",
            "  (relu): ReLU()\n",
            "  (sigmoid): Sigmoid()\n",
            ")\n"
          ]
        }
      ]
    },
    {
      "cell_type": "code",
      "source": [
        "loss_fn = nn.BCEWithLogitsLoss()\n",
        "optimizer = torch.optim.SGD(model.parameters(), lr=0.1)"
      ],
      "metadata": {
        "id": "ZgKVJV5O-WSa"
      },
      "execution_count": null,
      "outputs": []
    },
    {
      "cell_type": "code",
      "source": [
        "#torch.manual_seed(42)\n",
        "epochs = 50000"
      ],
      "metadata": {
        "id": "XNEKVa14-f9A"
      },
      "execution_count": null,
      "outputs": []
    },
    {
      "cell_type": "code",
      "source": [
        "for epoch in range(epochs):\n",
        "    # 1. Forward pass\n",
        "    y_logits = model(X_train).squeeze()\n",
        "    y_pred = torch.round(y_logits) # logits -> prediction probabilities -> prediction labels\n",
        "\n",
        "    # 2. Calculate loss and accuracy\n",
        "    loss = loss_fn(y_logits, y_train) # BCEWithLogitsLoss calculates loss using logits\n",
        "    acc = accuracy_fn(y_true=y_train,\n",
        "                      y_pred=y_pred)\n",
        "\n",
        "    # 3. Optimizer zero grad\n",
        "    optimizer.zero_grad()\n",
        "\n",
        "    # 4. Loss backward\n",
        "    loss.backward()\n",
        "\n",
        "    # 5. Optimizer step\n",
        "    optimizer.step()\n",
        "\n",
        "    ### Testing\n",
        "    model.eval()\n",
        "    with torch.inference_mode():\n",
        "      # 1. Forward pass\n",
        "      test_logits = model(X_test).squeeze()\n",
        "      test_pred = torch.round(test_logits) # logits -> prediction probabilities -> prediction labels\n",
        "      # 2. Calcuate loss and accuracy\n",
        "      test_loss = loss_fn(test_logits, y_test)\n",
        "      test_acc = accuracy_fn(y_true=y_test,\n",
        "                             y_pred=test_pred)\n",
        "\n",
        "    # Print out what's happening\n",
        "    if epoch % 1000 == 0:\n",
        "        print(f\"Epoch: {epoch} | Loss: {loss:.5f}, Accuracy: {acc:.2f}% | Test Loss: {test_loss:.5f}, Test Accuracy: {test_acc:.2f}%\")"
      ],
      "metadata": {
        "id": "0Tz9b0g7-k5b",
        "colab": {
          "base_uri": "https://localhost:8080/"
        },
        "outputId": "5b975ffb-665b-4761-9540-76e7fec49c18"
      },
      "execution_count": null,
      "outputs": [
        {
          "output_type": "stream",
          "name": "stdout",
          "text": [
            "Epoch: 0 | Loss: 0.63707, Accuracy: 61.41% | Test Loss: 0.62754, Test Accuracy: 68.17%\n",
            "Epoch: 1000 | Loss: 0.56643, Accuracy: 73.58% | Test Loss: 0.56859, Test Accuracy: 72.82%\n",
            "Epoch: 2000 | Loss: 0.56193, Accuracy: 73.51% | Test Loss: 0.56391, Test Accuracy: 73.71%\n",
            "Epoch: 3000 | Loss: 0.55624, Accuracy: 74.52% | Test Loss: 0.55826, Test Accuracy: 76.53%\n",
            "Epoch: 4000 | Loss: 0.54979, Accuracy: 76.79% | Test Loss: 0.55260, Test Accuracy: 78.86%\n",
            "Epoch: 5000 | Loss: 0.54554, Accuracy: 77.72% | Test Loss: 0.54966, Test Accuracy: 80.72%\n",
            "Epoch: 6000 | Loss: 0.54297, Accuracy: 79.25% | Test Loss: 0.54949, Test Accuracy: 79.36%\n",
            "Epoch: 7000 | Loss: 0.53903, Accuracy: 83.18% | Test Loss: 0.54520, Test Accuracy: 77.85%\n",
            "Epoch: 8000 | Loss: 0.53758, Accuracy: 80.87% | Test Loss: 0.54483, Test Accuracy: 81.20%\n",
            "Epoch: 9000 | Loss: 0.53476, Accuracy: 83.58% | Test Loss: 0.54171, Test Accuracy: 79.37%\n",
            "Epoch: 10000 | Loss: 0.53378, Accuracy: 81.85% | Test Loss: 0.54091, Test Accuracy: 82.00%\n",
            "Epoch: 11000 | Loss: 0.53271, Accuracy: 83.00% | Test Loss: 0.53973, Test Accuracy: 81.18%\n",
            "Epoch: 12000 | Loss: 0.53412, Accuracy: 83.85% | Test Loss: 0.54160, Test Accuracy: 79.21%\n",
            "Epoch: 13000 | Loss: 0.53299, Accuracy: 82.33% | Test Loss: 0.54109, Test Accuracy: 81.58%\n",
            "Epoch: 14000 | Loss: 0.53337, Accuracy: 81.61% | Test Loss: 0.54090, Test Accuracy: 82.11%\n",
            "Epoch: 15000 | Loss: 0.53322, Accuracy: 84.03% | Test Loss: 0.54011, Test Accuracy: 79.50%\n",
            "Epoch: 16000 | Loss: 0.53104, Accuracy: 83.22% | Test Loss: 0.53844, Test Accuracy: 81.41%\n",
            "Epoch: 17000 | Loss: 0.53050, Accuracy: 83.00% | Test Loss: 0.53830, Test Accuracy: 81.62%\n",
            "Epoch: 18000 | Loss: 0.53144, Accuracy: 82.25% | Test Loss: 0.54015, Test Accuracy: 82.56%\n",
            "Epoch: 19000 | Loss: 0.53009, Accuracy: 82.88% | Test Loss: 0.53786, Test Accuracy: 81.69%\n",
            "Epoch: 20000 | Loss: 0.53026, Accuracy: 82.81% | Test Loss: 0.53860, Test Accuracy: 82.19%\n",
            "Epoch: 21000 | Loss: 0.52953, Accuracy: 82.75% | Test Loss: 0.53740, Test Accuracy: 82.12%\n",
            "Epoch: 22000 | Loss: 0.52976, Accuracy: 82.60% | Test Loss: 0.53745, Test Accuracy: 82.74%\n",
            "Epoch: 23000 | Loss: 0.53070, Accuracy: 83.96% | Test Loss: 0.53833, Test Accuracy: 80.35%\n",
            "Epoch: 24000 | Loss: 0.53099, Accuracy: 84.26% | Test Loss: 0.53900, Test Accuracy: 80.04%\n",
            "Epoch: 25000 | Loss: 0.52877, Accuracy: 84.17% | Test Loss: 0.53804, Test Accuracy: 80.58%\n",
            "Epoch: 26000 | Loss: 0.52907, Accuracy: 84.11% | Test Loss: 0.53731, Test Accuracy: 81.06%\n",
            "Epoch: 27000 | Loss: 0.53067, Accuracy: 84.02% | Test Loss: 0.53909, Test Accuracy: 79.86%\n",
            "Epoch: 28000 | Loss: 0.52964, Accuracy: 82.45% | Test Loss: 0.53701, Test Accuracy: 82.75%\n",
            "Epoch: 29000 | Loss: 0.52778, Accuracy: 83.53% | Test Loss: 0.53683, Test Accuracy: 81.84%\n",
            "Epoch: 30000 | Loss: 0.52889, Accuracy: 82.82% | Test Loss: 0.53704, Test Accuracy: 82.44%\n",
            "Epoch: 31000 | Loss: 0.52816, Accuracy: 84.36% | Test Loss: 0.53791, Test Accuracy: 80.56%\n",
            "Epoch: 32000 | Loss: 0.52872, Accuracy: 82.90% | Test Loss: 0.53698, Test Accuracy: 82.44%\n",
            "Epoch: 33000 | Loss: 0.52822, Accuracy: 83.28% | Test Loss: 0.53712, Test Accuracy: 81.84%\n",
            "Epoch: 34000 | Loss: 0.52810, Accuracy: 83.12% | Test Loss: 0.53714, Test Accuracy: 82.18%\n",
            "Epoch: 35000 | Loss: 0.52800, Accuracy: 83.58% | Test Loss: 0.53680, Test Accuracy: 81.56%\n",
            "Epoch: 36000 | Loss: 0.53082, Accuracy: 84.19% | Test Loss: 0.53981, Test Accuracy: 79.69%\n",
            "Epoch: 37000 | Loss: 0.52791, Accuracy: 83.01% | Test Loss: 0.53627, Test Accuracy: 82.09%\n",
            "Epoch: 38000 | Loss: 0.52769, Accuracy: 84.47% | Test Loss: 0.53805, Test Accuracy: 80.34%\n",
            "Epoch: 39000 | Loss: 0.52897, Accuracy: 84.35% | Test Loss: 0.53926, Test Accuracy: 80.00%\n",
            "Epoch: 40000 | Loss: 0.52743, Accuracy: 84.43% | Test Loss: 0.53829, Test Accuracy: 80.27%\n",
            "Epoch: 41000 | Loss: 0.52823, Accuracy: 82.91% | Test Loss: 0.53709, Test Accuracy: 82.58%\n",
            "Epoch: 42000 | Loss: 0.52816, Accuracy: 83.11% | Test Loss: 0.53698, Test Accuracy: 82.54%\n",
            "Epoch: 43000 | Loss: 0.52744, Accuracy: 83.30% | Test Loss: 0.53634, Test Accuracy: 82.14%\n",
            "Epoch: 44000 | Loss: 0.52967, Accuracy: 84.44% | Test Loss: 0.53984, Test Accuracy: 79.71%\n",
            "Epoch: 45000 | Loss: 0.52801, Accuracy: 83.00% | Test Loss: 0.53609, Test Accuracy: 82.79%\n",
            "Epoch: 46000 | Loss: 0.52804, Accuracy: 84.35% | Test Loss: 0.53736, Test Accuracy: 80.72%\n",
            "Epoch: 47000 | Loss: 0.52805, Accuracy: 82.89% | Test Loss: 0.53632, Test Accuracy: 82.79%\n",
            "Epoch: 48000 | Loss: 0.52733, Accuracy: 84.23% | Test Loss: 0.53638, Test Accuracy: 81.20%\n",
            "Epoch: 49000 | Loss: 0.52920, Accuracy: 84.11% | Test Loss: 0.53736, Test Accuracy: 80.63%\n"
          ]
        }
      ]
    },
    {
      "cell_type": "code",
      "source": [
        "optimizer = torch.optim.Adam(model.parameters(), lr=0.01)"
      ],
      "metadata": {
        "id": "SkswMBGIWRsN"
      },
      "execution_count": null,
      "outputs": []
    },
    {
      "cell_type": "code",
      "source": [
        "for epoch in range(epochs):\n",
        "    # 1. Forward pass\n",
        "    y_logits = model(X_train).squeeze()\n",
        "    y_pred = torch.round(y_logits) # logits -> prediction probabilities -> prediction labels\n",
        "\n",
        "    # 2. Calculate loss and accuracy\n",
        "    loss = loss_fn(y_logits, y_train) # BCEWithLogitsLoss calculates loss using logits\n",
        "    acc = accuracy_fn(y_true=y_train,\n",
        "                      y_pred=y_pred)\n",
        "\n",
        "    # 3. Optimizer zero grad\n",
        "    optimizer.zero_grad()\n",
        "\n",
        "    # 4. Loss backward\n",
        "    loss.backward()\n",
        "\n",
        "    # 5. Optimizer step\n",
        "    optimizer.step()\n",
        "\n",
        "    ### Testing\n",
        "    model.eval()\n",
        "    with torch.inference_mode():\n",
        "      # 1. Forward pass\n",
        "      test_logits = model(X_test).squeeze()\n",
        "      test_pred = torch.round(test_logits) # logits -> prediction probabilities -> prediction labels\n",
        "      # 2. Calcuate loss and accuracy\n",
        "      test_loss = loss_fn(test_logits, y_test)\n",
        "      test_acc = accuracy_fn(y_true=y_test,\n",
        "                             y_pred=test_pred)\n",
        "\n",
        "    # Print out what's happening\n",
        "    if epoch % 1000 == 0:\n",
        "        print(f\"Epoch: {epoch} | Loss: {loss:.5f}, Accuracy: {acc:.2f}% | Test Loss: {test_loss:.5f}, Test Accuracy: {test_acc:.2f}%\")"
      ],
      "metadata": {
        "id": "xtSV9aM7WNwa",
        "colab": {
          "base_uri": "https://localhost:8080/"
        },
        "outputId": "ad5225c5-2609-4155-cff0-a3d84d8db1cd"
      },
      "execution_count": null,
      "outputs": [
        {
          "output_type": "stream",
          "name": "stdout",
          "text": [
            "Epoch: 0 | Loss: 0.52722, Accuracy: 83.19% | Test Loss: 0.55252, Test Accuracy: 81.76%\n",
            "Epoch: 1000 | Loss: 0.52251, Accuracy: 85.19% | Test Loss: 0.53381, Test Accuracy: 81.86%\n",
            "Epoch: 2000 | Loss: 0.52242, Accuracy: 84.55% | Test Loss: 0.53231, Test Accuracy: 82.79%\n",
            "Epoch: 3000 | Loss: 0.51615, Accuracy: 86.68% | Test Loss: 0.52579, Test Accuracy: 83.96%\n",
            "Epoch: 4000 | Loss: 0.51590, Accuracy: 86.91% | Test Loss: 0.52582, Test Accuracy: 83.60%\n",
            "Epoch: 5000 | Loss: 0.51518, Accuracy: 86.23% | Test Loss: 0.52774, Test Accuracy: 84.17%\n",
            "Epoch: 6000 | Loss: 0.51366, Accuracy: 86.91% | Test Loss: 0.52622, Test Accuracy: 83.81%\n",
            "Epoch: 7000 | Loss: 0.51350, Accuracy: 87.09% | Test Loss: 0.52633, Test Accuracy: 83.86%\n",
            "Epoch: 8000 | Loss: 0.51356, Accuracy: 86.60% | Test Loss: 0.52609, Test Accuracy: 83.81%\n",
            "Epoch: 9000 | Loss: 0.51466, Accuracy: 86.15% | Test Loss: 0.52549, Test Accuracy: 84.23%\n",
            "Epoch: 10000 | Loss: 0.51400, Accuracy: 87.15% | Test Loss: 0.52643, Test Accuracy: 83.86%\n",
            "Epoch: 11000 | Loss: 0.51517, Accuracy: 85.90% | Test Loss: 0.52571, Test Accuracy: 83.12%\n",
            "Epoch: 12000 | Loss: 0.51377, Accuracy: 86.39% | Test Loss: 0.52549, Test Accuracy: 84.21%\n",
            "Epoch: 13000 | Loss: 0.51336, Accuracy: 86.65% | Test Loss: 0.52449, Test Accuracy: 83.95%\n",
            "Epoch: 14000 | Loss: 0.51180, Accuracy: 87.45% | Test Loss: 0.52510, Test Accuracy: 84.28%\n",
            "Epoch: 15000 | Loss: 0.51526, Accuracy: 86.47% | Test Loss: 0.52553, Test Accuracy: 83.33%\n",
            "Epoch: 16000 | Loss: 0.51235, Accuracy: 87.04% | Test Loss: 0.52635, Test Accuracy: 84.28%\n",
            "Epoch: 17000 | Loss: 0.51392, Accuracy: 86.97% | Test Loss: 0.52545, Test Accuracy: 83.96%\n",
            "Epoch: 18000 | Loss: 0.51330, Accuracy: 86.96% | Test Loss: 0.52491, Test Accuracy: 84.51%\n",
            "Epoch: 19000 | Loss: 0.51255, Accuracy: 86.88% | Test Loss: 0.52522, Test Accuracy: 84.12%\n",
            "Epoch: 20000 | Loss: 0.51312, Accuracy: 87.33% | Test Loss: 0.52454, Test Accuracy: 83.79%\n",
            "Epoch: 21000 | Loss: 0.51247, Accuracy: 87.38% | Test Loss: 0.52471, Test Accuracy: 83.98%\n",
            "Epoch: 22000 | Loss: 0.51220, Accuracy: 86.75% | Test Loss: 0.52453, Test Accuracy: 84.24%\n",
            "Epoch: 23000 | Loss: 0.51207, Accuracy: 87.32% | Test Loss: 0.52636, Test Accuracy: 84.33%\n",
            "Epoch: 24000 | Loss: 0.51382, Accuracy: 86.48% | Test Loss: 0.52434, Test Accuracy: 84.33%\n",
            "Epoch: 25000 | Loss: 0.51106, Accuracy: 87.52% | Test Loss: 0.52495, Test Accuracy: 83.98%\n",
            "Epoch: 26000 | Loss: 0.51166, Accuracy: 87.42% | Test Loss: 0.52502, Test Accuracy: 84.37%\n",
            "Epoch: 27000 | Loss: 0.51481, Accuracy: 87.01% | Test Loss: 0.52581, Test Accuracy: 84.16%\n",
            "Epoch: 28000 | Loss: 0.51202, Accuracy: 87.27% | Test Loss: 0.52544, Test Accuracy: 83.65%\n",
            "Epoch: 29000 | Loss: 0.51223, Accuracy: 87.27% | Test Loss: 0.52446, Test Accuracy: 83.98%\n",
            "Epoch: 30000 | Loss: 0.51479, Accuracy: 87.01% | Test Loss: 0.52552, Test Accuracy: 84.16%\n",
            "Epoch: 31000 | Loss: 0.51068, Accuracy: 87.33% | Test Loss: 0.52618, Test Accuracy: 84.30%\n",
            "Epoch: 32000 | Loss: 0.51390, Accuracy: 87.16% | Test Loss: 0.52471, Test Accuracy: 84.09%\n",
            "Epoch: 33000 | Loss: 0.51353, Accuracy: 86.49% | Test Loss: 0.52558, Test Accuracy: 84.23%\n",
            "Epoch: 34000 | Loss: 0.51317, Accuracy: 87.13% | Test Loss: 0.52469, Test Accuracy: 84.33%\n",
            "Epoch: 35000 | Loss: 0.51078, Accuracy: 87.49% | Test Loss: 0.52565, Test Accuracy: 84.23%\n",
            "Epoch: 36000 | Loss: 0.51381, Accuracy: 86.86% | Test Loss: 0.52493, Test Accuracy: 84.38%\n",
            "Epoch: 37000 | Loss: 0.51184, Accuracy: 87.16% | Test Loss: 0.52555, Test Accuracy: 84.02%\n",
            "Epoch: 38000 | Loss: 0.51122, Accuracy: 87.34% | Test Loss: 0.52466, Test Accuracy: 84.45%\n",
            "Epoch: 39000 | Loss: 0.51471, Accuracy: 87.07% | Test Loss: 0.52571, Test Accuracy: 84.00%\n",
            "Epoch: 40000 | Loss: 0.51350, Accuracy: 86.41% | Test Loss: 0.52506, Test Accuracy: 84.17%\n",
            "Epoch: 41000 | Loss: 0.51217, Accuracy: 86.92% | Test Loss: 0.52491, Test Accuracy: 83.84%\n",
            "Epoch: 42000 | Loss: 0.51169, Accuracy: 87.30% | Test Loss: 0.52480, Test Accuracy: 84.00%\n",
            "Epoch: 43000 | Loss: 0.51572, Accuracy: 85.74% | Test Loss: 0.52623, Test Accuracy: 83.46%\n",
            "Epoch: 44000 | Loss: 0.51208, Accuracy: 87.47% | Test Loss: 0.52431, Test Accuracy: 83.89%\n",
            "Epoch: 45000 | Loss: 0.51632, Accuracy: 86.24% | Test Loss: 0.52624, Test Accuracy: 83.88%\n",
            "Epoch: 46000 | Loss: 0.51162, Accuracy: 87.37% | Test Loss: 0.52568, Test Accuracy: 83.93%\n",
            "Epoch: 47000 | Loss: 0.51251, Accuracy: 87.04% | Test Loss: 0.52373, Test Accuracy: 84.33%\n",
            "Epoch: 48000 | Loss: 0.51353, Accuracy: 86.40% | Test Loss: 0.52559, Test Accuracy: 83.77%\n",
            "Epoch: 49000 | Loss: 0.51655, Accuracy: 85.46% | Test Loss: 0.52403, Test Accuracy: 84.30%\n"
          ]
        }
      ]
    },
    {
      "cell_type": "code",
      "source": [],
      "metadata": {
        "id": "mIxN6mMwTUV3"
      },
      "execution_count": null,
      "outputs": []
    }
  ]
}