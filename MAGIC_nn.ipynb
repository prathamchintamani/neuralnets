{
  "nbformat": 4,
  "nbformat_minor": 0,
  "metadata": {
    "colab": {
      "provenance": [],
      "gpuType": "T4",
      "authorship_tag": "ABX9TyN6pz6AH4ZXumFt4tQ54JYy",
      "include_colab_link": true
    },
    "kernelspec": {
      "name": "python3",
      "display_name": "Python 3"
    },
    "language_info": {
      "name": "python"
    },
    "accelerator": "GPU"
  },
  "cells": [
    {
      "cell_type": "markdown",
      "metadata": {
        "id": "view-in-github",
        "colab_type": "text"
      },
      "source": [
        "<a href=\"https://colab.research.google.com/github/prathamchintamani/neuralnets/blob/main/MAGIC_nn.ipynb\" target=\"_parent\"><img src=\"https://colab.research.google.com/assets/colab-badge.svg\" alt=\"Open In Colab\"/></a>"
      ]
    },
    {
      "cell_type": "markdown",
      "source": [
        "https://archive.ics.uci.edu/dataset/267/banknote+authentication\n",
        "dataset"
      ],
      "metadata": {
        "id": "32IA83CsCcHB"
      }
    },
    {
      "cell_type": "code",
      "execution_count": 555,
      "metadata": {
        "id": "bE3N703p_nCb"
      },
      "outputs": [],
      "source": [
        "#libraries\n",
        "import pandas as pd\n",
        "import numpy as np\n",
        "from sklearn.model_selection import train_test_split"
      ]
    },
    {
      "cell_type": "code",
      "source": [
        "import torch\n",
        "from torch import nn"
      ],
      "metadata": {
        "id": "Jw7_G9aE6w2z"
      },
      "execution_count": 556,
      "outputs": []
    },
    {
      "cell_type": "code",
      "source": [
        "if torch.cuda.is_available():\n",
        "  device = 'cpu'#gpu not working for some reason\n",
        "else:\n",
        "  device = 'cpu'"
      ],
      "metadata": {
        "id": "J4XXZG9-62a5"
      },
      "execution_count": 557,
      "outputs": []
    },
    {
      "cell_type": "markdown",
      "source": [],
      "metadata": {
        "id": "EY57SU6dCgai"
      }
    },
    {
      "cell_type": "code",
      "source": [
        "#data loading\n",
        "cols = [\"fLength\", \"fWidth\", \"fSize\", \"fConc\", \"fConc1\", \"fAsym\", \"fM3Long\", \"fM3Trans\", \"fALpha\", \"fDist\", \"target\"]\n",
        "df = pd.read_csv(\"magic04.data\",names = cols)\n",
        "df[\"target\"] = (df[\"target\"] == \"g\").astype(int)\n",
        "df = df.sample(frac = 1)\n",
        "df = df.reset_index(drop = True)"
      ],
      "metadata": {
        "id": "zBAWfOuA_xfG"
      },
      "execution_count": 558,
      "outputs": []
    },
    {
      "cell_type": "code",
      "source": [
        "#preprocessing\n",
        "y = df.target\n",
        "X = df.drop([\"target\"],axis = 1)\n",
        "X_train ,X_test,y_train,y_test = train_test_split(X,y,train_size = 0.70,random_state = 0)"
      ],
      "metadata": {
        "id": "S9grXOvhH9gj"
      },
      "execution_count": 559,
      "outputs": []
    },
    {
      "cell_type": "code",
      "source": [
        "#pddf to numpy\n",
        "X_train = X_train.to_numpy()\n",
        "X_test = X_test.to_numpy()\n",
        "y_train = y_train.to_numpy()\n",
        "y_test = y_test.to_numpy()"
      ],
      "metadata": {
        "id": "orRsMfXAKVxu"
      },
      "execution_count": 560,
      "outputs": []
    },
    {
      "cell_type": "code",
      "source": [
        "#assigning number of rows to variables\n",
        "n = np.shape(X_train)[0]\n",
        "m = np.shape(X_test)[0]"
      ],
      "metadata": {
        "id": "Yr7m3ZAcK7s0"
      },
      "execution_count": 561,
      "outputs": []
    },
    {
      "cell_type": "code",
      "source": [
        "def accuracy_fn(y_true, y_pred):\n",
        "    correct = torch.eq(y_true, y_pred).sum().item() # torch.eq() calculates where two tensors are equal\n",
        "    acc = (correct / len(y_pred)) * 100\n",
        "    return acc"
      ],
      "metadata": {
        "id": "Vrv9yrur-7WJ"
      },
      "execution_count": 562,
      "outputs": []
    },
    {
      "cell_type": "code",
      "source": [
        "X_train = torch.from_numpy(X_train)\n",
        "X_test = torch.from_numpy(X_test)\n",
        "y_train = torch.from_numpy(y_train)\n",
        "y_test = torch.from_numpy(y_test)"
      ],
      "metadata": {
        "id": "VRjzLQDr7QGX"
      },
      "execution_count": 563,
      "outputs": []
    },
    {
      "cell_type": "code",
      "source": [
        "X_train = X_train.type(torch.float)\n",
        "X_test = X_test.type(torch.float)\n",
        "y_train = y_train.type(torch.float)\n",
        "y_test = y_test.type(torch.float)"
      ],
      "metadata": {
        "id": "f3G1_PylPc7f"
      },
      "execution_count": 564,
      "outputs": []
    },
    {
      "cell_type": "code",
      "source": [
        "X_train = X_train.to(device)\n",
        "X_test = X_test.to(device)\n",
        "y_train = y_train.to(device)\n",
        "y_test = y_test.to(device)"
      ],
      "metadata": {
        "id": "4YnRpGGBP1XD"
      },
      "execution_count": 565,
      "outputs": []
    },
    {
      "cell_type": "code",
      "source": [
        "class neural(nn.Module):\n",
        "  def __init__(self, in_size, hidden_size = 8):\n",
        "    super().__init__()\n",
        "    self.layer1 = nn.Linear(in_features=in_size,out_features=hidden_size)\n",
        "    self.layer2 = nn.Linear(in_features=hidden_size,out_features=hidden_size)\n",
        "    self.layer3 = nn.Linear(in_features=hidden_size,out_features=hidden_size)\n",
        "    self.layer4 = nn.Linear(in_features=hidden_size,out_features=1)\n",
        "    self.relu=nn.ReLU()\n",
        "    self.sigmoid=nn.Sigmoid()\n",
        "  def forward(self, X):\n",
        "    return self.sigmoid(self.layer4(self.relu(self.layer3(self.relu(self.layer2(self.relu(self.layer1(X))))))))\n"
      ],
      "metadata": {
        "id": "vFs5LnG87qcm"
      },
      "execution_count": 566,
      "outputs": []
    },
    {
      "cell_type": "code",
      "source": [
        "model = neural(in_size = 10, hidden_size = 8).to(device)"
      ],
      "metadata": {
        "id": "EJFkDjT1_WKJ"
      },
      "execution_count": 567,
      "outputs": []
    },
    {
      "cell_type": "code",
      "source": [
        "print(model)"
      ],
      "metadata": {
        "colab": {
          "base_uri": "https://localhost:8080/"
        },
        "id": "N1tvyGPz9pY7",
        "outputId": "f9bce82e-131c-483f-cc03-e58d9fabbdde"
      },
      "execution_count": 568,
      "outputs": [
        {
          "output_type": "stream",
          "name": "stdout",
          "text": [
            "neural(\n",
            "  (layer1): Linear(in_features=10, out_features=8, bias=True)\n",
            "  (layer2): Linear(in_features=8, out_features=8, bias=True)\n",
            "  (layer3): Linear(in_features=8, out_features=8, bias=True)\n",
            "  (layer4): Linear(in_features=8, out_features=1, bias=True)\n",
            "  (relu): ReLU()\n",
            "  (sigmoid): Sigmoid()\n",
            ")\n"
          ]
        }
      ]
    },
    {
      "cell_type": "code",
      "source": [
        "loss_fn = nn.BCEWithLogitsLoss()\n",
        "optimizer = torch.optim.SGD(model.parameters(), lr=0.01)"
      ],
      "metadata": {
        "id": "ZgKVJV5O-WSa"
      },
      "execution_count": 569,
      "outputs": []
    },
    {
      "cell_type": "code",
      "source": [
        "#torch.manual_seed(42)\n",
        "epochs = 100000"
      ],
      "metadata": {
        "id": "XNEKVa14-f9A"
      },
      "execution_count": 570,
      "outputs": []
    },
    {
      "cell_type": "code",
      "source": [
        "for epoch in range(epochs):\n",
        "    # 1. Forward pass\n",
        "    y_logits = model(X_train).squeeze()\n",
        "    y_pred = torch.round(y_logits) # logits -> prediction probabilities -> prediction labels\n",
        "\n",
        "    # 2. Calculate loss and accuracy\n",
        "    loss = loss_fn(y_logits, y_train) # BCEWithLogitsLoss calculates loss using logits\n",
        "    acc = accuracy_fn(y_true=y_train,\n",
        "                      y_pred=y_pred)\n",
        "\n",
        "    # 3. Optimizer zero grad\n",
        "    optimizer.zero_grad()\n",
        "\n",
        "    # 4. Loss backward\n",
        "    loss.backward()\n",
        "\n",
        "    # 5. Optimizer step\n",
        "    optimizer.step()\n",
        "\n",
        "    ### Testing\n",
        "    model.eval()\n",
        "    with torch.inference_mode():\n",
        "      # 1. Forward pass\n",
        "      test_logits = model(X_test).squeeze()\n",
        "      test_pred = torch.round(test_logits) # logits -> prediction probabilities -> prediction labels\n",
        "      # 2. Calcuate loss and accuracy\n",
        "      test_loss = loss_fn(test_logits, y_test)\n",
        "      test_acc = accuracy_fn(y_true=y_test,\n",
        "                             y_pred=test_pred)\n",
        "\n",
        "    # Print out what's happening\n",
        "    if epoch % 1000 == 0:\n",
        "        print(f\"Epoch: {epoch} | Loss: {loss:.5f}, Accuracy: {acc:.2f}% | Test Loss: {test_loss:.5f}, Test Accuracy: {test_acc:.2f}%\")"
      ],
      "metadata": {
        "colab": {
          "base_uri": "https://localhost:8080/"
        },
        "id": "0Tz9b0g7-k5b",
        "outputId": "aee0b1b0-de9c-4829-ebb9-ccca2370158a"
      },
      "execution_count": 571,
      "outputs": [
        {
          "output_type": "stream",
          "name": "stdout",
          "text": [
            "Epoch: 0 | Loss: 0.66417, Accuracy: 34.08% | Test Loss: 0.66308, Test Accuracy: 35.30%\n",
            "Epoch: 1000 | Loss: 0.56962, Accuracy: 73.15% | Test Loss: 0.57446, Test Accuracy: 72.94%\n",
            "Epoch: 2000 | Loss: 0.56755, Accuracy: 73.15% | Test Loss: 0.57283, Test Accuracy: 72.92%\n",
            "Epoch: 3000 | Loss: 0.56675, Accuracy: 73.33% | Test Loss: 0.57221, Test Accuracy: 73.06%\n",
            "Epoch: 4000 | Loss: 0.56623, Accuracy: 73.46% | Test Loss: 0.57179, Test Accuracy: 73.13%\n",
            "Epoch: 5000 | Loss: 0.56582, Accuracy: 73.50% | Test Loss: 0.57146, Test Accuracy: 73.34%\n",
            "Epoch: 6000 | Loss: 0.56544, Accuracy: 73.59% | Test Loss: 0.57120, Test Accuracy: 73.27%\n",
            "Epoch: 7000 | Loss: 0.56509, Accuracy: 73.70% | Test Loss: 0.57093, Test Accuracy: 73.26%\n",
            "Epoch: 8000 | Loss: 0.56473, Accuracy: 73.77% | Test Loss: 0.57064, Test Accuracy: 73.20%\n",
            "Epoch: 9000 | Loss: 0.56435, Accuracy: 73.91% | Test Loss: 0.57032, Test Accuracy: 73.27%\n",
            "Epoch: 10000 | Loss: 0.56342, Accuracy: 74.01% | Test Loss: 0.56977, Test Accuracy: 73.59%\n",
            "Epoch: 11000 | Loss: 0.56235, Accuracy: 74.25% | Test Loss: 0.56871, Test Accuracy: 73.71%\n",
            "Epoch: 12000 | Loss: 0.56129, Accuracy: 74.54% | Test Loss: 0.56772, Test Accuracy: 73.85%\n",
            "Epoch: 13000 | Loss: 0.55986, Accuracy: 75.00% | Test Loss: 0.56641, Test Accuracy: 74.31%\n",
            "Epoch: 14000 | Loss: 0.55728, Accuracy: 75.86% | Test Loss: 0.56330, Test Accuracy: 74.83%\n",
            "Epoch: 15000 | Loss: 0.55515, Accuracy: 77.05% | Test Loss: 0.56068, Test Accuracy: 76.55%\n",
            "Epoch: 16000 | Loss: 0.55391, Accuracy: 77.54% | Test Loss: 0.55937, Test Accuracy: 76.94%\n",
            "Epoch: 17000 | Loss: 0.55281, Accuracy: 78.02% | Test Loss: 0.55821, Test Accuracy: 77.23%\n",
            "Epoch: 18000 | Loss: 0.55179, Accuracy: 78.41% | Test Loss: 0.55708, Test Accuracy: 77.81%\n",
            "Epoch: 19000 | Loss: 0.55073, Accuracy: 78.78% | Test Loss: 0.55598, Test Accuracy: 78.23%\n",
            "Epoch: 20000 | Loss: 0.55068, Accuracy: 77.29% | Test Loss: 0.55621, Test Accuracy: 79.00%\n",
            "Epoch: 21000 | Loss: 0.55070, Accuracy: 76.76% | Test Loss: 0.55596, Test Accuracy: 79.65%\n",
            "Epoch: 22000 | Loss: 0.55061, Accuracy: 76.49% | Test Loss: 0.55568, Test Accuracy: 79.85%\n",
            "Epoch: 23000 | Loss: 0.55001, Accuracy: 76.61% | Test Loss: 0.55505, Test Accuracy: 79.90%\n",
            "Epoch: 24000 | Loss: 0.54914, Accuracy: 76.93% | Test Loss: 0.55433, Test Accuracy: 80.13%\n",
            "Epoch: 25000 | Loss: 0.54811, Accuracy: 77.32% | Test Loss: 0.55366, Test Accuracy: 80.44%\n",
            "Epoch: 26000 | Loss: 0.54670, Accuracy: 77.68% | Test Loss: 0.55270, Test Accuracy: 80.69%\n",
            "Epoch: 27000 | Loss: 0.54790, Accuracy: 76.91% | Test Loss: 0.55526, Test Accuracy: 80.51%\n",
            "Epoch: 28000 | Loss: 0.54236, Accuracy: 79.53% | Test Loss: 0.54896, Test Accuracy: 80.65%\n",
            "Epoch: 29000 | Loss: 0.54526, Accuracy: 77.65% | Test Loss: 0.55460, Test Accuracy: 80.58%\n",
            "Epoch: 30000 | Loss: 0.54348, Accuracy: 78.44% | Test Loss: 0.55187, Test Accuracy: 80.91%\n",
            "Epoch: 31000 | Loss: 0.54184, Accuracy: 79.13% | Test Loss: 0.54791, Test Accuracy: 81.16%\n",
            "Epoch: 32000 | Loss: 0.54379, Accuracy: 78.11% | Test Loss: 0.55173, Test Accuracy: 81.09%\n",
            "Epoch: 33000 | Loss: 0.54069, Accuracy: 79.59% | Test Loss: 0.54728, Test Accuracy: 81.16%\n",
            "Epoch: 34000 | Loss: 0.54325, Accuracy: 78.32% | Test Loss: 0.55156, Test Accuracy: 81.18%\n",
            "Epoch: 35000 | Loss: 0.54092, Accuracy: 79.29% | Test Loss: 0.54801, Test Accuracy: 81.37%\n",
            "Epoch: 36000 | Loss: 0.54066, Accuracy: 79.39% | Test Loss: 0.54778, Test Accuracy: 81.39%\n",
            "Epoch: 37000 | Loss: 0.54030, Accuracy: 79.44% | Test Loss: 0.54754, Test Accuracy: 81.34%\n",
            "Epoch: 38000 | Loss: 0.53995, Accuracy: 79.53% | Test Loss: 0.54723, Test Accuracy: 81.28%\n",
            "Epoch: 39000 | Loss: 0.53959, Accuracy: 79.70% | Test Loss: 0.54687, Test Accuracy: 81.35%\n",
            "Epoch: 40000 | Loss: 0.53933, Accuracy: 79.80% | Test Loss: 0.54664, Test Accuracy: 81.37%\n",
            "Epoch: 41000 | Loss: 0.53909, Accuracy: 79.89% | Test Loss: 0.54632, Test Accuracy: 81.32%\n",
            "Epoch: 42000 | Loss: 0.53887, Accuracy: 79.98% | Test Loss: 0.54610, Test Accuracy: 81.39%\n",
            "Epoch: 43000 | Loss: 0.53863, Accuracy: 80.10% | Test Loss: 0.54587, Test Accuracy: 81.42%\n",
            "Epoch: 44000 | Loss: 0.53838, Accuracy: 80.21% | Test Loss: 0.54556, Test Accuracy: 81.48%\n",
            "Epoch: 45000 | Loss: 0.53818, Accuracy: 80.27% | Test Loss: 0.54532, Test Accuracy: 81.51%\n",
            "Epoch: 46000 | Loss: 0.53797, Accuracy: 80.49% | Test Loss: 0.54504, Test Accuracy: 81.48%\n",
            "Epoch: 47000 | Loss: 0.53774, Accuracy: 80.57% | Test Loss: 0.54476, Test Accuracy: 81.48%\n",
            "Epoch: 48000 | Loss: 0.53759, Accuracy: 80.62% | Test Loss: 0.54457, Test Accuracy: 81.55%\n",
            "Epoch: 49000 | Loss: 0.53733, Accuracy: 80.71% | Test Loss: 0.54418, Test Accuracy: 81.56%\n",
            "Epoch: 50000 | Loss: 0.53721, Accuracy: 80.73% | Test Loss: 0.54408, Test Accuracy: 81.53%\n",
            "Epoch: 51000 | Loss: 0.53698, Accuracy: 80.82% | Test Loss: 0.54384, Test Accuracy: 81.49%\n",
            "Epoch: 52000 | Loss: 0.53675, Accuracy: 80.87% | Test Loss: 0.54360, Test Accuracy: 81.51%\n",
            "Epoch: 53000 | Loss: 0.53657, Accuracy: 81.01% | Test Loss: 0.54339, Test Accuracy: 81.46%\n",
            "Epoch: 54000 | Loss: 0.53642, Accuracy: 81.10% | Test Loss: 0.54323, Test Accuracy: 81.48%\n",
            "Epoch: 55000 | Loss: 0.53635, Accuracy: 81.07% | Test Loss: 0.54324, Test Accuracy: 81.51%\n",
            "Epoch: 56000 | Loss: 0.53623, Accuracy: 81.11% | Test Loss: 0.54309, Test Accuracy: 81.46%\n",
            "Epoch: 57000 | Loss: 0.53610, Accuracy: 81.13% | Test Loss: 0.54293, Test Accuracy: 81.49%\n",
            "Epoch: 58000 | Loss: 0.53599, Accuracy: 81.16% | Test Loss: 0.54286, Test Accuracy: 81.53%\n",
            "Epoch: 59000 | Loss: 0.53591, Accuracy: 81.16% | Test Loss: 0.54276, Test Accuracy: 81.55%\n",
            "Epoch: 60000 | Loss: 0.53578, Accuracy: 81.20% | Test Loss: 0.54257, Test Accuracy: 81.58%\n",
            "Epoch: 61000 | Loss: 0.53568, Accuracy: 81.24% | Test Loss: 0.54244, Test Accuracy: 81.70%\n",
            "Epoch: 62000 | Loss: 0.53562, Accuracy: 81.24% | Test Loss: 0.54238, Test Accuracy: 81.70%\n",
            "Epoch: 63000 | Loss: 0.53550, Accuracy: 81.29% | Test Loss: 0.54221, Test Accuracy: 81.69%\n",
            "Epoch: 64000 | Loss: 0.53541, Accuracy: 81.32% | Test Loss: 0.54213, Test Accuracy: 81.67%\n",
            "Epoch: 65000 | Loss: 0.53532, Accuracy: 81.35% | Test Loss: 0.54205, Test Accuracy: 81.65%\n",
            "Epoch: 66000 | Loss: 0.53528, Accuracy: 81.36% | Test Loss: 0.54198, Test Accuracy: 81.67%\n",
            "Epoch: 67000 | Loss: 0.53519, Accuracy: 81.39% | Test Loss: 0.54188, Test Accuracy: 81.70%\n",
            "Epoch: 68000 | Loss: 0.53510, Accuracy: 81.45% | Test Loss: 0.54177, Test Accuracy: 81.70%\n",
            "Epoch: 69000 | Loss: 0.53503, Accuracy: 81.48% | Test Loss: 0.54167, Test Accuracy: 81.70%\n",
            "Epoch: 70000 | Loss: 0.53495, Accuracy: 81.50% | Test Loss: 0.54156, Test Accuracy: 81.67%\n",
            "Epoch: 71000 | Loss: 0.53489, Accuracy: 81.52% | Test Loss: 0.54146, Test Accuracy: 81.76%\n",
            "Epoch: 72000 | Loss: 0.53483, Accuracy: 81.49% | Test Loss: 0.54139, Test Accuracy: 81.77%\n",
            "Epoch: 73000 | Loss: 0.53477, Accuracy: 81.51% | Test Loss: 0.54135, Test Accuracy: 81.77%\n",
            "Epoch: 74000 | Loss: 0.53470, Accuracy: 81.52% | Test Loss: 0.54127, Test Accuracy: 81.84%\n",
            "Epoch: 75000 | Loss: 0.53469, Accuracy: 81.54% | Test Loss: 0.54118, Test Accuracy: 81.81%\n",
            "Epoch: 76000 | Loss: 0.53466, Accuracy: 81.55% | Test Loss: 0.54115, Test Accuracy: 81.86%\n",
            "Epoch: 77000 | Loss: 0.53460, Accuracy: 81.60% | Test Loss: 0.54111, Test Accuracy: 81.88%\n",
            "Epoch: 78000 | Loss: 0.53460, Accuracy: 81.62% | Test Loss: 0.54109, Test Accuracy: 81.91%\n",
            "Epoch: 79000 | Loss: 0.53452, Accuracy: 81.67% | Test Loss: 0.54109, Test Accuracy: 81.91%\n",
            "Epoch: 80000 | Loss: 0.53447, Accuracy: 81.70% | Test Loss: 0.54104, Test Accuracy: 81.91%\n",
            "Epoch: 81000 | Loss: 0.53440, Accuracy: 81.72% | Test Loss: 0.54100, Test Accuracy: 81.86%\n",
            "Epoch: 82000 | Loss: 0.53429, Accuracy: 81.80% | Test Loss: 0.54087, Test Accuracy: 81.84%\n",
            "Epoch: 83000 | Loss: 0.53422, Accuracy: 81.80% | Test Loss: 0.54080, Test Accuracy: 81.86%\n",
            "Epoch: 84000 | Loss: 0.53416, Accuracy: 81.82% | Test Loss: 0.54073, Test Accuracy: 81.91%\n",
            "Epoch: 85000 | Loss: 0.53410, Accuracy: 81.82% | Test Loss: 0.54062, Test Accuracy: 81.90%\n",
            "Epoch: 86000 | Loss: 0.53404, Accuracy: 81.90% | Test Loss: 0.54058, Test Accuracy: 81.88%\n",
            "Epoch: 87000 | Loss: 0.53399, Accuracy: 81.91% | Test Loss: 0.54050, Test Accuracy: 81.86%\n",
            "Epoch: 88000 | Loss: 0.53394, Accuracy: 81.88% | Test Loss: 0.54046, Test Accuracy: 81.83%\n",
            "Epoch: 89000 | Loss: 0.53390, Accuracy: 81.91% | Test Loss: 0.54036, Test Accuracy: 81.79%\n",
            "Epoch: 90000 | Loss: 0.53384, Accuracy: 81.92% | Test Loss: 0.54027, Test Accuracy: 81.83%\n",
            "Epoch: 91000 | Loss: 0.53377, Accuracy: 81.93% | Test Loss: 0.54020, Test Accuracy: 81.91%\n",
            "Epoch: 92000 | Loss: 0.53373, Accuracy: 81.94% | Test Loss: 0.54014, Test Accuracy: 81.90%\n",
            "Epoch: 93000 | Loss: 0.53366, Accuracy: 81.94% | Test Loss: 0.54003, Test Accuracy: 81.95%\n",
            "Epoch: 94000 | Loss: 0.53360, Accuracy: 81.97% | Test Loss: 0.53994, Test Accuracy: 81.98%\n",
            "Epoch: 95000 | Loss: 0.53354, Accuracy: 81.98% | Test Loss: 0.53984, Test Accuracy: 81.95%\n",
            "Epoch: 96000 | Loss: 0.53350, Accuracy: 82.00% | Test Loss: 0.53979, Test Accuracy: 81.98%\n",
            "Epoch: 97000 | Loss: 0.53341, Accuracy: 82.02% | Test Loss: 0.53963, Test Accuracy: 81.98%\n",
            "Epoch: 98000 | Loss: 0.53331, Accuracy: 82.11% | Test Loss: 0.53952, Test Accuracy: 81.98%\n",
            "Epoch: 99000 | Loss: 0.53327, Accuracy: 82.15% | Test Loss: 0.53944, Test Accuracy: 81.98%\n"
          ]
        }
      ]
    },
    {
      "cell_type": "code",
      "source": [],
      "metadata": {
        "id": "mIxN6mMwTUV3"
      },
      "execution_count": 571,
      "outputs": []
    }
  ]
}